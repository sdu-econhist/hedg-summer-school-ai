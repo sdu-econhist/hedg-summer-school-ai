{
 "cells": [
  {
   "cell_type": "markdown",
   "id": "6dd8cdfd",
   "metadata": {
    "slideshow": {
     "slide_type": "slide"
    }
   },
   "source": [
    "## **Historical Perspectives on Current Economic Issues: Big Data and Applications**\n",
    "### *AI/ML for language and vision*\n",
    "\n",
    "Torben Skov Dyg Johansen (tsdj@sam.sdu.dk, tsdj@rooftop-analytics.com)\n",
    "Assistant Professor of Econometrics and Data Science at SDU and Data Scientist at Rooftop Analytics\n",
    "https://torbensdjohansen.github.io/\n",
    "\n",
    "Christian Vedel (christian-vs@sam.sdu.dk)\n",
    "Assistant Professor of Economic History\n",
    "https://sites.google.com/view/christianvedel "
   ]
  },
  {
   "cell_type": "markdown",
   "id": "5415aa65-9f1c-4d82-a5df-b25b12d0b338",
   "metadata": {
    "slideshow": {
     "slide_type": "slide"
    }
   },
   "source": [
    "# Today\n",
    "- Taking the plunch into using some of the tools\n",
    "- Balance between showing *what* can be done and *how* to do it. More towards *how*. \n",
    "- First bit should be fine for everyone to follow along, but difficulty increases througout the day\n",
    "- Some of it will be hard, but this is an advanced class"
   ]
  },
  {
   "cell_type": "markdown",
   "id": "3f82e7a5",
   "metadata": {
    "slideshow": {
     "slide_type": "subslide"
    }
   },
   "source": [
    "## Plan:\n",
    "1. **Off-shelf-models:** How to run advanced ML pipelines for text and image analysis in a couple lines of code\n",
    "2. **Tokens and embedding space:** A conceptual framework to understand machine learning\n",
    "3. **Introduction to OccCANINE:** How to use it and how to build something similar (a neural network for text classication)\n",
    "4. **Transcription:** How to run transcription on scanned documents"
   ]
  },
  {
   "cell_type": "markdown",
   "id": "75806b19-2077-402a-be7f-d38a5468414d",
   "metadata": {
    "slideshow": {
     "slide_type": "slide"
    }
   },
   "source": [
    "# Python\n",
    "\n",
    "- The single most important language for machine learning\n",
    "- R can do *some* stuff. But not everything we show you today\n",
    "- Easy language"
   ]
  },
  {
   "cell_type": "markdown",
   "id": "de036c77",
   "metadata": {
    "slideshow": {
     "slide_type": "subslide"
    }
   },
   "source": [
    "![Languages](Figures/languages.png)"
   ]
  },
  {
   "cell_type": "markdown",
   "id": "18a27eff",
   "metadata": {
    "slideshow": {
     "slide_type": "subslide"
    }
   },
   "source": [
    "![Frameworks](Figures/frameworks.png)"
   ]
  },
  {
   "cell_type": "markdown",
   "id": "48d03e0f-1158-410e-b8bc-aec35eddd234",
   "metadata": {
    "slideshow": {
     "slide_type": "slide"
    }
   },
   "source": [
    "## Getting started with Python\n",
    "\n",
    "### Colab\n",
    "- We will use google colab: https://colab.research.google.com/ \n",
    "\n",
    "### Proper setup\n",
    "- Install anaconda\n",
    "- Make environment `conda create --name my_env`\n",
    "- `conda install spyder`\n",
    "- Find *plenty* via google\n",
    "\n",
    "### Programming logic\n",
    "- Play \"The Farmer Was Replaced\": https://store.steampowered.com/app/2060160/The_Farmer_Was_Replaced/ "
   ]
  },
  {
   "cell_type": "markdown",
   "id": "30a96f3a-3f8e-4b2a-ac4b-4363c5762f60",
   "metadata": {
    "slideshow": {
     "slide_type": "slide"
    }
   },
   "source": [
    "<div style=\"display: flex; align-items: center;\">\n",
    "    <img src=\"https://huggingface.co/favicon.ico\" alt=\"HuggingFace Logo\" style=\"height: 40px; margin-right: 10px;\">\n",
    "    <h1 style=\"margin: 0;\">HuggingFace</h1>\n",
    "</div>\n",
    "\n",
    "- HuggingFace is a platform for sharing machine learning models\n",
    "- Most of the most advanced pretrained models are available here\n",
    "- You can use the *off the shelf* or finetune them. Plenty of guidance available\n",
    "\n"
   ]
  },
  {
   "cell_type": "markdown",
   "id": "c27a018e",
   "metadata": {
    "slideshow": {
     "slide_type": "subslide"
    }
   },
   "source": [
    "### Exercise\n",
    "- Try navigating to [HuggingFace.co](https://huggingface.co/)\n",
    "- Look for a model for one of the following tasks: Image Classification, Text Classification, Zero-Shot Classificaiton, Translation, Sentence Similarity\n",
    "- Take a picture of yourself (or some on the internet) and try this tool: [huggingface.co/spaces/schibsted-presplit/facial_expression_classifier](https://huggingface.co/spaces/schibsted-presplit/facial_expression_classifier)"
   ]
  },
  {
   "cell_type": "markdown",
   "id": "3111fc2b-6b7d-453b-8692-11adbcfb765d",
   "metadata": {
    "slideshow": {
     "slide_type": "slide"
    }
   },
   "source": [
    "## `pipeline`\n",
    "- You can interact with many of these models using the `pipeline` interface of the `transformers` library\n",
    "- You make an *instance* of a model buy calling `pipeline(task = \"...\")`\n",
    "- You can find an overview of tasks here: [huggingface.co/docs/transformers/main/en/quicktour#pipeline](https://huggingface.co/docs/transformers/main/en/quicktour#pipeline)"
   ]
  },
  {
   "cell_type": "markdown",
   "id": "f3e702c3-cec5-4f81-b032-710b8d65b8b2",
   "metadata": {
    "slideshow": {
     "slide_type": "slide"
    }
   },
   "source": [
    "<h1> Demonstration 1: Vision </h1>\n",
    "<div style=\"overflow: hidden;\">\n",
    "    <div style=\"float: left; width: 70%;\">\n",
    "        <ul>\n",
    "        <li>Automatic image description</li>\n",
    "        <li>Automatic image object detection</li>\n",
    "        </ul>\n",
    "    </div>\n",
    "    <div style=\"float: right; text-align: center; width: 30%;\">\n",
    "        <img src=\"Figures/arkivdk7055378.png\" alt=\"Arkiv.dk\"/>\n",
    "        <br/>\n",
    "        <span style=\"font-size: small;\">Picture from <a href=\"https://arkiv.dk/vis/7055378\">arkiv.dk</a></span>\n",
    "    </div>\n",
    "</div>"
   ]
  },
  {
   "cell_type": "markdown",
   "id": "6f47d336",
   "metadata": {
    "slideshow": {
     "slide_type": "subslide"
    }
   },
   "source": [
    "## Demo 1.1: Automatic caption"
   ]
  },
  {
   "cell_type": "code",
   "execution_count": null,
   "id": "cce51a27",
   "metadata": {
    "slideshow": {
     "slide_type": "fragment"
    }
   },
   "outputs": [],
   "source": [
    "from transformers import pipeline\n",
    "model = pipeline(\n",
    "    task=\"image-to-text\", \n",
    "    model = \"Salesforce/blip-image-captioning-base\"\n",
    ")\n",
    "\n",
    "results = model(\"Figures/arkivdk7055378.png\")"
   ]
  },
  {
   "cell_type": "code",
   "execution_count": 3,
   "id": "3ccab9f6",
   "metadata": {
    "slideshow": {
     "slide_type": "fragment"
    }
   },
   "outputs": [
    {
     "name": "stdout",
     "output_type": "stream",
     "text": [
      "[{'generated_text': 'two men sitting on a chair in front of a wall'}]\n"
     ]
    }
   ],
   "source": [
    "print(results)"
   ]
  },
  {
   "cell_type": "markdown",
   "id": "d2f86b36",
   "metadata": {
    "slideshow": {
     "slide_type": "subslide"
    }
   },
   "source": [
    "## Demo 1.2: Object detection"
   ]
  },
  {
   "cell_type": "code",
   "execution_count": null,
   "id": "41b48626",
   "metadata": {
    "slideshow": {
     "slide_type": "fragment"
    }
   },
   "outputs": [],
   "source": [
    "from transformers import pipeline\n",
    "\n",
    "model = pipeline(\"object-detection\", model = \"facebook/detr-resnet-50\")\n",
    "results = model(\"Figures/arkivdk7055378.png\")\n",
    "# ... add a bit of code to draw the objects found"
   ]
  },
  {
   "cell_type": "code",
   "execution_count": 3,
   "id": "3270bec2",
   "metadata": {
    "slideshow": {
     "slide_type": "skip"
    }
   },
   "outputs": [
    {
     "data": {
      "image/png": "[encoded data removed]",
      "text/plain": [
       "<Figure size 1200x800 with 1 Axes>"
      ]
     },
     "metadata": {},
     "output_type": "display_data"
    }
   ],
   "source": [
    "# Not shown in presentation\n",
    "from utils import draw_picture # Custom functon\n",
    "draw_picture(results, \"Figures/arkivdk7055378.png\", save_path=\"Figures/arkivdk7055378_annotated.png\")"
   ]
  },
  {
   "cell_type": "markdown",
   "id": "e64d334b",
   "metadata": {
    "slideshow": {
     "slide_type": "subslide"
    }
   },
   "source": [
    "<img src=\"Figures/arkivdk7055378_annotated.png\" alt=\"Annotated\" style=\"height:600px;\">"
   ]
  },
  {
   "cell_type": "markdown",
   "id": "7d81afc4",
   "metadata": {
    "slideshow": {
     "slide_type": "subslide"
    }
   },
   "source": [
    "![Images](Figures/voth_yanagizawa-drott_2024.PNG)"
   ]
  },
  {
   "cell_type": "markdown",
   "id": "abc5038d",
   "metadata": {
    "slideshow": {
     "slide_type": "subslide"
    }
   },
   "source": [
    "![Images](Figures/voth_yanagizawa-drott_2024_fig4.PNG)\n",
    "\n",
    "Find the working paper here: https://www.jvoth.com/images_july_24.pdf"
   ]
  },
  {
   "cell_type": "markdown",
   "id": "9d13b876",
   "metadata": {
    "slideshow": {
     "slide_type": "slide"
    }
   },
   "source": [
    "# Demonstration 2: Natural Language Processing\n",
    "\n"
   ]
  },
  {
   "cell_type": "markdown",
   "id": "0526e3ec",
   "metadata": {
    "slideshow": {
     "slide_type": "subslide"
    }
   },
   "source": [
    "### About NLP\n",
    "- Natural Language Processesing used to be based on *Bag of Words* (BoW) and *rule-based* methods informed by Grammar and Lingustics\n",
    "- The old approach still has some merit (simple topic models, very fast compute in financial applications, etc.)\n",
    "- Instead we use *masked* tranformer language models trained on next token prediction\n",
    "  + Justification: *It turns out, that you need to implicitly understand language to predict it*"
   ]
  },
  {
   "cell_type": "markdown",
   "id": "678e3bb2",
   "metadata": {
    "slideshow": {
     "slide_type": "subslide"
    }
   },
   "source": [
    "### Language Models: Quick and dirty tour of the landscape\n",
    "- Old models: Based on LSTM\n",
    "- New models: Based on transformers\n",
    "- Medium Language Models: 50m to 1b parameters\n",
    "- Large Language Models: >1b parameters"
   ]
  },
  {
   "cell_type": "markdown",
   "id": "dd4256fb",
   "metadata": {
    "slideshow": {
     "slide_type": "subslide"
    }
   },
   "source": [
    "## Demo 2.1: Sentiment analysis"
   ]
  },
  {
   "cell_type": "code",
   "execution_count": 4,
   "id": "789c73fe",
   "metadata": {
    "slideshow": {
     "slide_type": "fragment"
    }
   },
   "outputs": [],
   "source": [
    "from transformers import pipeline\n",
    "classifier = pipeline(\n",
    "    task = \"sentiment-analysis\", \n",
    "    model = \"distilbert/distilbert-base-uncased-finetuned-sst-2-english\"\n",
    ")\n",
    "result = classifier(\"It is a lot of fun to learn advanced ML stuff.\")"
   ]
  },
  {
   "cell_type": "code",
   "execution_count": 5,
   "id": "ce31cbfe",
   "metadata": {
    "slideshow": {
     "slide_type": "fragment"
    }
   },
   "outputs": [
    {
     "name": "stdout",
     "output_type": "stream",
     "text": [
      "[{'label': 'POSITIVE', 'score': 0.9997534155845642}]\n"
     ]
    }
   ],
   "source": [
    "print(result)"
   ]
  },
  {
   "cell_type": "markdown",
   "id": "0bd94b0c",
   "metadata": {
    "slideshow": {
     "slide_type": "subslide"
    }
   },
   "source": [
    "## Demo 2.2: Named Entities Recognition"
   ]
  },
  {
   "cell_type": "code",
   "execution_count": null,
   "id": "f7360858",
   "metadata": {
    "slideshow": {
     "slide_type": "fragment"
    }
   },
   "outputs": [],
   "source": [
    "from transformers import pipeline\n",
    "model = pipeline(task = \"ner\", model = \"dslim/bert-base-NER\")\n",
    "result = model(\n",
    "    \"\"\"\n",
    "    Mr. Edward Jameson, born on October 15, 1867, in Concord, Massachusetts, \n",
    "    is a gentleman of notable accomplishments. He received his early \n",
    "    education at the local academy and graduated with honors from Harvard \n",
    "    College in 1888. Pursuing a career in law, he quickly rose to prominence \n",
    "    through his sagacity and dedication.\"\n",
    "    \"\"\"\n",
    ")"
   ]
  },
  {
   "cell_type": "code",
   "execution_count": 6,
   "id": "048e56c2",
   "metadata": {
    "slideshow": {
     "slide_type": "skip"
    }
   },
   "outputs": [],
   "source": [
    "from utils import print_ner"
   ]
  },
  {
   "cell_type": "code",
   "execution_count": 7,
   "id": "240894ee",
   "metadata": {
    "slideshow": {
     "slide_type": "fragment"
    }
   },
   "outputs": [
    {
     "name": "stdout",
     "output_type": "stream",
     "text": [
      "B-PER: Edward; Probability: 0.998\n",
      "I-PER: Jameson; Probability: 0.998\n",
      "B-LOC: Concord; Probability: 0.991\n",
      "B-LOC: Massachusetts; Probability: 0.999\n",
      "B-ORG: Harvard; Probability: 0.998\n",
      "I-ORG: College; Probability: 0.997\n"
     ]
    }
   ],
   "source": [
    "print_ner(result) # Custom function to print"
   ]
  },
  {
   "cell_type": "markdown",
   "id": "d1d81bb7",
   "metadata": {
    "slideshow": {
     "slide_type": "subslide"
    }
   },
   "source": [
    "## Demo 2.3: Translation"
   ]
  },
  {
   "cell_type": "code",
   "execution_count": 6,
   "id": "b8524147",
   "metadata": {
    "slideshow": {
     "slide_type": "fragment"
    }
   },
   "outputs": [],
   "source": [
    "from transformers import pipeline\n",
    "\n",
    "translator = pipeline(\"translation_en_to_fr\", model = \"google-t5/t5-base\")\n",
    "\n",
    "text = \"Hello, do you like machine learning and economic history?\"\n",
    "\n",
    "results = translator(text)"
   ]
  },
  {
   "cell_type": "code",
   "execution_count": 7,
   "id": "ed086067",
   "metadata": {
    "slideshow": {
     "slide_type": "fragment"
    }
   },
   "outputs": [
    {
     "name": "stdout",
     "output_type": "stream",
     "text": [
      "Translated Text: Bonjour, aimez-vous l'apprentissage automatique et l'histoire économique ?\n"
     ]
    }
   ],
   "source": [
    "for result in results:\n",
    "    print(f\"Translated Text: {result['translation_text']}\")"
   ]
  },
  {
   "cell_type": "markdown",
   "id": "ecdaedb9",
   "metadata": {
    "slideshow": {
     "slide_type": "subslide"
    }
   },
   "source": [
    "## Demo 2.3: Text generation from Large Language Model"
   ]
  },
  {
   "cell_type": "code",
   "execution_count": null,
   "id": "796b5885",
   "metadata": {
    "slideshow": {
     "slide_type": "fragment"
    }
   },
   "outputs": [],
   "source": [
    "from transformers import pipeline\n",
    "import torch\n",
    "\n",
    "model = pipeline(\n",
    "    task = \"text-generation\", \n",
    "    model = 'HuggingFaceH4/zephyr-7b-beta', \n",
    "    torch_dtype=torch.bfloat16, \n",
    "    device_map='auto',\n",
    "    ) # facebook/opt-125m\n",
    "result = model(\n",
    "    \"The technical aspects of economic history\", \n",
    "    max_length=50, \n",
    "    truncation=True,\n",
    "    )"
   ]
  },
  {
   "cell_type": "code",
   "execution_count": 10,
   "id": "2714f95c",
   "metadata": {
    "slideshow": {
     "slide_type": "fragment"
    }
   },
   "outputs": [
    {
     "name": "stdout",
     "output_type": "stream",
     "text": [
      "[{'generated_text': 'The technical aspects of economic history, such as the study of prices, wages, and interest rates, are also important in understanding the economic development of a region.\\n\\nIn summary, economic history is a multidisciplinary field that combines'}]\n"
     ]
    }
   ],
   "source": [
    "print(result)"
   ]
  },
  {
   "cell_type": "markdown",
   "id": "3917c081",
   "metadata": {
    "slideshow": {
     "slide_type": "subslide"
    }
   },
   "source": [
    "### Extension: You can also provide context"
   ]
  },
  {
   "cell_type": "code",
   "execution_count": 11,
   "id": "47c1d6bd",
   "metadata": {
    "slideshow": {
     "slide_type": "fragment"
    }
   },
   "outputs": [],
   "source": [
    "messages = [\n",
    "    {\n",
    "        \"role\": \"system\",\n",
    "        \"content\": \"\"\"\n",
    "        You are a friendly econometrician who's interested in advanced \n",
    "        statistical techniques for Economic History. You want people to \n",
    "        understand the importance of advanced methods.\n",
    "        \"\"\",\n",
    "    },\n",
    "    {\n",
    "        \"role\": \"user\", \n",
    "        \"content\": \"\"\"\"\n",
    "        Can we do good economic history research without all the \n",
    "        technicalities?\n",
    "        \"\"\"\n",
    "    },\n",
    "]\n",
    "prompt = model.tokenizer.apply_chat_template(\n",
    "    messages, tokenize=False, add_generation_prompt=True\n",
    ")\n",
    "outputs = model(\n",
    "    prompt, max_new_tokens=128, do_sample=True, temperature=0.7, \n",
    "    top_k=10, top_p=0.95\n",
    ")"
   ]
  },
  {
   "cell_type": "code",
   "execution_count": 12,
   "id": "cd3ae450",
   "metadata": {
    "slideshow": {
     "slide_type": "subslide"
    }
   },
   "outputs": [
    {
     "name": "stdout",
     "output_type": "stream",
     "text": [
      "<|system|>\n",
      "\n",
      "        You are a friendly econometrician who's interested in advanced \n",
      "        statistical techniques for Economic History. You want people to \n",
      "        understand the importance of advanced methods.\n",
      "        </s>\n",
      "<|user|>\n",
      "\"\n",
      "        Can we do good economic history research without all the \n",
      "        technicalities?\n",
      "        </s>\n",
      "<|assistant|>\n",
      "While it's true that some economic history research can be done with simpler statistical methods, advanced techniques offer several benefits that can enhance the accuracy and reliability of historical analyses. Here are a few reasons why advanced methods are important:\n",
      "\n",
      "1. Dealing with complex data: Historical data can be messy and incomplete, with missing values, outliers, and other irregularities. Advanced statistical techniques, such as time-series analysis, panel data models, and Bayesian methods, can help econometricians handle these challenges and draw more reliable conclusions.\n",
      "\n",
      "2. Accounting for structural changes: Historical economies\n"
     ]
    }
   ],
   "source": [
    "print(outputs[0][\"generated_text\"])"
   ]
  },
  {
   "cell_type": "markdown",
   "id": "061ddc8a",
   "metadata": {
    "slideshow": {
     "slide_type": "slide"
    }
   },
   "source": [
    "## Exercise: \n",
    "### Running advanced ML model yourself\n",
    "\n",
    "You are tasked with running an automated and scalable analyisis *Notes from the Underground* by Dostoevsky\n",
    "\n",
    "- Go to to [colab.research.google.com/drive/1YmzV2A40B3KsnTycavg2I9IxLk4DS1g-?usp=sharing](https://colab.research.google.com/drive/1YmzV2A40B3KsnTycavg2I9IxLk4DS1g-?usp=sharing)\n",
    "- Copy the notebook and do the exercises"
   ]
  },
  {
   "cell_type": "markdown",
   "id": "7578c710-5df5-474f-90fc-f9a30016a065",
   "metadata": {
    "slideshow": {
     "slide_type": "slide"
    }
   },
   "source": [
    "### Outline\n",
    "\n",
    "#### Language\n",
    "1. Tokenization: Representing text as numbers\n",
    "1. Text embeddings\n",
    "1. Neural networks for text data\n",
    "1. Text classification from scratch\n",
    "\n",
    "#### Vision\n",
    "1. Document classification\n",
    "1. Segmentations\n",
    "1. Handwritten text recognition\n",
    "1. Application: Copenhagen Infant Health Visitor Records"
   ]
  },
  {
   "cell_type": "markdown",
   "id": "9df63ad9",
   "metadata": {
    "slideshow": {
     "slide_type": "slide"
    },
    "vscode": {
     "languageId": "plaintext"
    }
   },
   "source": [
    "# Tokenization\n",
    "\n",
    "**Computers only like numbers**: We need to somehow represent text as numbers\n",
    "\n",
    "*We essentially do this the same way we handle categorical variables in regressions*"
   ]
  },
  {
   "cell_type": "markdown",
   "id": "fe003629",
   "metadata": {
    "slideshow": {
     "slide_type": "slide"
    },
    "vscode": {
     "languageId": "plaintext"
    }
   },
   "source": [
    "## Tokenizing a sentence\n",
    "\n",
    "Tokenization works by building a dictionary for each word (or more generally token, it could be the sub-word or even character level).\n",
    "\n",
    "For example, we may build the following dictionary:"
   ]
  },
  {
   "cell_type": "code",
   "execution_count": 13,
   "id": "19cdc0c4",
   "metadata": {},
   "outputs": [
    {
     "name": "stdout",
     "output_type": "stream",
     "text": [
      "[0, 1, 2, 3, 0, 4]\n"
     ]
    }
   ],
   "source": [
    "tokenization_dict = {\n",
    "    'the': 0,\n",
    "    'cat': 1,\n",
    "    'sat': 2,\n",
    "    'on': 3,\n",
    "    'mat': 4,\n",
    "}\n",
    "\n",
    "example_text = 'the cat sat on the mat'\n",
    "tokenized_text = [tokenization_dict[word] for word in example_text.split()]\n",
    "print(tokenized_text)"
   ]
  },
  {
   "cell_type": "markdown",
   "id": "ed0678ae",
   "metadata": {
    "slideshow": {
     "slide_type": "slide"
    }
   },
   "source": [
    "## One-hot encoding\n",
    "\n",
    "It makes little sense to think of separate words as lying on a continuous scale - and thus the numbers on the previous slide should be thought of as representing a categorical variable\n",
    "\n",
    "As with using dummies in regressions, we now expand this categorial variable to a number of different 0/1 variables, which we call one-hot encoding"
   ]
  },
  {
   "cell_type": "code",
   "execution_count": 14,
   "id": "08cd55b5",
   "metadata": {},
   "outputs": [
    {
     "name": "stdout",
     "output_type": "stream",
     "text": [
      "tensor([[1, 0, 0, 0, 0],\n",
      "        [0, 1, 0, 0, 0],\n",
      "        [0, 0, 1, 0, 0],\n",
      "        [0, 0, 0, 1, 0],\n",
      "        [1, 0, 0, 0, 0],\n",
      "        [0, 0, 0, 0, 1]])\n"
     ]
    }
   ],
   "source": [
    "import torch\n",
    "\n",
    "one_hot_encoded = torch.nn.functional.one_hot(torch.tensor(tokenized_text))\n",
    "print(one_hot_encoded)"
   ]
  },
  {
   "cell_type": "markdown",
   "id": "fb08235f",
   "metadata": {},
   "source": [
    "This matrix has five columns, as we have a dictionary with five unique words, and six rows, as we have a sentence consisting of six words (of which two are the same)"
   ]
  },
  {
   "cell_type": "markdown",
   "id": "a1dea99f",
   "metadata": {
    "slideshow": {
     "slide_type": "subslide"
    }
   },
   "source": [
    "If we then estimated a linear model using OLS, we could make our preditions like so"
   ]
  },
  {
   "cell_type": "code",
   "execution_count": 15,
   "id": "15f664a2",
   "metadata": {},
   "outputs": [
    {
     "data": {
      "text/plain": [
       "tensor([1, 2, 3, 5, 1, 9])"
      ]
     },
     "execution_count": 15,
     "metadata": {},
     "output_type": "execute_result"
    }
   ],
   "source": [
    "betas = torch.tensor([1, 2, 3, 5, 9])\n",
    "\n",
    "one_hot_encoded @ betas"
   ]
  },
  {
   "cell_type": "markdown",
   "id": "e721fe37",
   "metadata": {},
   "source": [
    "Typically, a neural network will consists of a series of such matrix multiplications followed by some non-linearity"
   ]
  },
  {
   "cell_type": "markdown",
   "id": "dd201754",
   "metadata": {},
   "source": [
    "**Note**: It's quite inefficient to perform the above matrix multiplication, as the first matrix is *sparse* - and in practice, we'd implement this using a lookup"
   ]
  },
  {
   "cell_type": "code",
   "execution_count": 16,
   "id": "fe2db636",
   "metadata": {},
   "outputs": [
    {
     "data": {
      "text/plain": [
       "tensor([1, 2, 3, 5, 1, 9])"
      ]
     },
     "execution_count": 16,
     "metadata": {},
     "output_type": "execute_result"
    }
   ],
   "source": [
    "betas_lookup = dict(zip(tokenization_dict.values(), betas))\n",
    "torch.tensor([betas_lookup[token] for token in tokenized_text])"
   ]
  },
  {
   "cell_type": "markdown",
   "id": "113494c7",
   "metadata": {},
   "source": [
    "**Note**: Often, we'll associate a *vector* (rather than just one number) with each token"
   ]
  },
  {
   "cell_type": "markdown",
   "id": "0aa49d34",
   "metadata": {
    "slideshow": {
     "slide_type": "slide"
    }
   },
   "source": [
    "# Text embeddings\n",
    "\n",
    "One-hot encoding is *sparse*. \n",
    "This is particularly true if there are many classes, and working with language, over 100,000 classes is not uncommon\n",
    "\n",
    "However, words are *related*, and we can often store them much more efficiently. \n",
    "Embedding is one such way, in which a sparse vector is transformed to a (often much lower dimensional) non-sparse/dense vector. \n",
    "In this more dense space, we often see that words such as \"father\" and \"mother\" might be closer to each other than to \"Italy\"\n",
    "\n",
    "For a problem with n words (or tokens, in the general case) and an embedding dimension k, the embedding function is a function $f: \\{0, 1\\}^n \\rightarrow \\mathbb{R}^k$\n",
    "\n",
    "As such, an embedding is \"just\" a lookup table, \"looking up\" *k* real numbers for each word"
   ]
  },
  {
   "cell_type": "markdown",
   "id": "11968e16",
   "metadata": {
    "slideshow": {
     "slide_type": "slide"
    }
   },
   "source": [
    "### Continuing our one-hot example\n",
    "\n",
    "Recall our earlier one-hot example with a vocabulary consisting of five words (leading to each word being represented by a 5-dimensional sparse vector)"
   ]
  },
  {
   "cell_type": "code",
   "execution_count": 17,
   "id": "5ee9f0b4",
   "metadata": {},
   "outputs": [
    {
     "data": {
      "text/plain": [
       "{'the': 0, 'cat': 1, 'sat': 2, 'on': 3, 'mat': 4}"
      ]
     },
     "execution_count": 17,
     "metadata": {},
     "output_type": "execute_result"
    }
   ],
   "source": [
    "tokenization_dict"
   ]
  },
  {
   "cell_type": "markdown",
   "id": "21eef86e",
   "metadata": {},
   "source": [
    "Suppose we instead of creating an $n$-by-5 dimensional sparse vector ($n = $ length of sentence) creates an $n$-by-2 dimensional dense vector"
   ]
  },
  {
   "cell_type": "code",
   "execution_count": 18,
   "id": "60d563e8",
   "metadata": {},
   "outputs": [],
   "source": [
    "import numpy as np\n",
    "\n",
    "embedding_lookup = {\n",
    "    0: (0.5, 0.1),\n",
    "    1: (0.3, 0.9),\n",
    "    2: (1.2, -1.2),\n",
    "    3: (0.7, 2.3),\n",
    "    4: (3.2, 1.1),\n",
    "}"
   ]
  },
  {
   "cell_type": "markdown",
   "id": "917a4848",
   "metadata": {
    "slideshow": {
     "slide_type": "slide"
    }
   },
   "source": [
    "### Continuing our one-hot example\n",
    "\n",
    "We can now use our embedding table to encode our sentence as an $n$-by-2 dimensional matrix (rather than $n$-by-6)"
   ]
  },
  {
   "cell_type": "code",
   "execution_count": 19,
   "id": "354781f7",
   "metadata": {},
   "outputs": [
    {
     "data": {
      "text/plain": [
       "array([[ 0.5,  0.1],\n",
       "       [ 0.3,  0.9],\n",
       "       [ 1.2, -1.2],\n",
       "       [ 0.7,  2.3],\n",
       "       [ 0.5,  0.1],\n",
       "       [ 3.2,  1.1]])"
      ]
     },
     "execution_count": 19,
     "metadata": {},
     "output_type": "execute_result"
    }
   ],
   "source": [
    "np.array([embedding_lookup[token] for token in tokenized_text])"
   ]
  },
  {
   "cell_type": "markdown",
   "id": "e85b7e8c",
   "metadata": {},
   "source": [
    "This works phenomenally well, the reason of which has to do with how words are related.\n",
    "Intuitively, some words are \"closer\" to each other than others, such as father and mother being more close to each other than either is to hospital"
   ]
  },
  {
   "cell_type": "markdown",
   "id": "81729ea7",
   "metadata": {
    "slideshow": {
     "slide_type": "slide"
    }
   },
   "source": [
    "### A real example\n",
    "\n",
    "[GloVe](https://nlp.stanford.edu/projects/glove/) is a commonly used pre-trained embedding table.\n",
    "Let's take a look at some 50-dimensional vector representations of 400,000 words (or word-pieces) and how they are related"
   ]
  },
  {
   "cell_type": "code",
   "execution_count": 20,
   "id": "de17d73f",
   "metadata": {},
   "outputs": [],
   "source": [
    "import torchtext\n",
    "\n",
    "vocab = torchtext.vocab.GloVe(name='6B', dim=50)"
   ]
  },
  {
   "cell_type": "markdown",
   "id": "4747fe8b",
   "metadata": {},
   "source": [
    "We will start by studying the placement of father and mother in relation to each other (here, first 5 dimensions for readability)"
   ]
  },
  {
   "cell_type": "code",
   "execution_count": 21,
   "id": "c01dd762",
   "metadata": {},
   "outputs": [
    {
     "data": {
      "text/plain": [
       "tensor([ 0.0955,  0.7042, -0.4078, -0.8084,  1.2560])"
      ]
     },
     "execution_count": 21,
     "metadata": {},
     "output_type": "execute_result"
    }
   ],
   "source": [
    "vocab.vectors[vocab.stoi['father']][:5]"
   ]
  },
  {
   "cell_type": "code",
   "execution_count": 22,
   "id": "d1b8b0b3",
   "metadata": {},
   "outputs": [
    {
     "data": {
      "text/plain": [
       "tensor([ 0.4336,  1.0727, -0.6196, -0.8068,  1.2519])"
      ]
     },
     "execution_count": 22,
     "metadata": {},
     "output_type": "execute_result"
    }
   ],
   "source": [
    "vocab.vectors[vocab.stoi['mother']][:5]"
   ]
  },
  {
   "cell_type": "markdown",
   "id": "75e22430",
   "metadata": {
    "slideshow": {
     "slide_type": "slide"
    }
   },
   "source": [
    "### A real example\n",
    "\n",
    "Intuitively, we would expect that if we subtract \"man\" from \"father\", and then add \"woman\", we should end up with \"mother\".\n",
    "Let us see this is practice"
   ]
  },
  {
   "cell_type": "code",
   "execution_count": 23,
   "id": "993adf26",
   "metadata": {},
   "outputs": [
    {
     "data": {
      "text/plain": [
       "tensor([ 0.0084,  0.9224, -0.8176, -0.8477,  1.1528])"
      ]
     },
     "execution_count": 23,
     "metadata": {},
     "output_type": "execute_result"
    }
   ],
   "source": [
    "embedding_father = vocab.vectors[vocab.stoi['father']]\n",
    "embedding_man = vocab.vectors[vocab.stoi['man']]\n",
    "embedding_woman = vocab.vectors[vocab.stoi['woman']]\n",
    "\n",
    "qvec = embedding_father - embedding_man + embedding_woman\n",
    "qvec[:5]"
   ]
  },
  {
   "cell_type": "markdown",
   "id": "62ace4bc",
   "metadata": {},
   "source": [
    "We will now calculate the distances between `qvec` and all embeddings, finding the associated word that lies closest to `qvec`"
   ]
  },
  {
   "cell_type": "code",
   "execution_count": 24,
   "id": "673a182a",
   "metadata": {},
   "outputs": [
    {
     "data": {
      "text/plain": [
       "'mother'"
      ]
     },
     "execution_count": 24,
     "metadata": {},
     "output_type": "execute_result"
    }
   ],
   "source": [
    "distances = torch.sum((vocab.vectors - qvec) ** 2, dim=1)\n",
    "closest = torch.argmin(distances)\n",
    "closest_word = vocab.itos[closest]\n",
    "closest_word"
   ]
  },
  {
   "cell_type": "markdown",
   "id": "a828960a",
   "metadata": {
    "slideshow": {
     "slide_type": "slide"
    }
   },
   "source": [
    "### A real example\n",
    "\n",
    "Let us try to visualize this movement in embedding space.\n",
    "First, we'll simplify this to 2 dimensions so we can actually visualize it.\n",
    "In this example, I will do this using [t-SNE](https://lvdmaaten.github.io/publications/papers/JMLR_2008.pdf) over the 10,000 most common words part of the [GloVe](https://nlp.stanford.edu/projects/glove/) vocabulary\n",
    "\n",
    "We're simplifying a bit here for visualization purposes, but this is all real data\n",
    "\n",
    "Let us draw the relevant vectors, including our vector additions and subtractions\n",
    "\n",
    "*See below for details on $t$-SNE*"
   ]
  },
  {
   "cell_type": "code",
   "execution_count": 25,
   "id": "a6bd2a32",
   "metadata": {
    "slideshow": {
     "slide_type": "subslide"
    }
   },
   "outputs": [],
   "source": [
    "from sklearn.manifold import TSNE\n",
    "\n",
    "def get_tsne_embeddings(\n",
    "        embeddings: np.ndarray,\n",
    "        dimensions: int = 2,\n",
    "        ):\n",
    "    assert 2 <= dimensions <= 3, dimensions\n",
    "\n",
    "    tsne = TSNE(n_components=dimensions, random_state=0)\n",
    "\n",
    "    tsne_embeddings = tsne.fit_transform(embeddings)\n",
    "\n",
    "    # Scale vectors to uniform length (easier to visualize)\n",
    "    lens = sum(tsne_embeddings[:, i] ** 2 for i in range(dimensions)) ** 0.5\n",
    "\n",
    "    tsne_embeddings_s = tsne_embeddings.copy()\n",
    "    tsne_embeddings_s[:, 0] /= lens\n",
    "    tsne_embeddings_s[:, 1] /= lens\n",
    "\n",
    "    if dimensions == 3:\n",
    "        tsne_embeddings_s[:, 2] /= lens\n",
    "\n",
    "    return tsne_embeddings, tsne_embeddings_s"
   ]
  },
  {
   "cell_type": "code",
   "execution_count": 26,
   "id": "1184a281",
   "metadata": {
    "slideshow": {
     "slide_type": "subslide"
    }
   },
   "outputs": [],
   "source": [
    "# 2d t-SNE embeddings for 10,000 most common \"words\" (tokens)\n",
    "embeddings_50d = np.array([vocab.vectors[i].numpy() for i in range(10_000)])\n",
    "tsne_embeddings, tsne_embeddings_s = get_tsne_embeddings(embeddings_50d, 2)"
   ]
  },
  {
   "cell_type": "code",
   "execution_count": 27,
   "id": "630234c5",
   "metadata": {},
   "outputs": [
    {
     "data": {
      "text/plain": [
       "array([0.6783404 , 0.73474777], dtype=float32)"
      ]
     },
     "execution_count": 27,
     "metadata": {},
     "output_type": "execute_result"
    }
   ],
   "source": [
    "tsne_embeddings_s[vocab.stoi['father']]"
   ]
  },
  {
   "cell_type": "code",
   "execution_count": 28,
   "id": "ffa08325",
   "metadata": {},
   "outputs": [
    {
     "data": {
      "text/plain": [
       "array([0.6711474 , 0.74132395], dtype=float32)"
      ]
     },
     "execution_count": 28,
     "metadata": {},
     "output_type": "execute_result"
    }
   ],
   "source": [
    "tsne_embeddings_s[vocab.stoi['mother']]"
   ]
  },
  {
   "cell_type": "markdown",
   "id": "73d4eaa5",
   "metadata": {
    "slideshow": {
     "slide_type": "slide"
    }
   },
   "source": [
    "### Father to mother in embedding space\n",
    "\n",
    "<div id=\"image-container-1\" style=\"width: 100%; margin: auto;\">\n",
    "    <img src=\"./figs/father-to-mother-1.png\" style=\"width: 100%; position: absolute; opacity: 1;\" class=\"fade-image-1\">\n",
    "    <img src=\"./figs/father-to-mother-2.png\" style=\"width: 100%; position: absolute; opacity: 0;\" class=\"fade-image-1\">\n",
    "    <img src=\"./figs/father-to-mother-3.png\" style=\"width: 100%; position: absolute; opacity: 0;\" class=\"fade-image-1\">\n",
    "    <img src=\"./figs/father-to-mother-4.png\" style=\"width: 100%; position: absolute; opacity: 0;\" class=\"fade-image-1\">\n",
    "</div>\n",
    "\n",
    "<script>\n",
    "let currentIndex1 = 0;\n",
    "const images1 = document.querySelectorAll('.fade-image-1');\n",
    "const fadeInterval1 = 3000;\n",
    "\n",
    "function fadeImages1() {\n",
    "    images1.forEach((img, index) => {\n",
    "        img.style.opacity = index === currentIndex1 ? 1 : 0;\n",
    "    });\n",
    "    currentIndex1 = (currentIndex1 + 1) % images1.length;\n",
    "}\n",
    "\n",
    "let fadeTimer1 = setInterval(fadeImages1, fadeInterval1);\n",
    "\n",
    "const observer1 = new IntersectionObserver(entries => {\n",
    "    entries.forEach(entry => {\n",
    "        if (entry.isIntersecting) {\n",
    "            clearInterval(fadeTimer1); // Stop any previous interval\n",
    "            currentIndex1 = 0; // Reset to the first image\n",
    "            fadeImages1(); // Show the first image immediately\n",
    "            fadeTimer1 = setInterval(fadeImages1, fadeInterval1); // Restart interval\n",
    "        }\n",
    "    });\n",
    "}, { threshold: 0.5 });\n",
    "\n",
    "observer1.observe(document.querySelector('#image-container-1'));\n",
    "</script>\n",
    "\n",
    "<style>\n",
    "    #image-container-1 {\n",
    "        position: relative;\n",
    "        height: 500px; /* Set the desired height */\n",
    "    }\n",
    "\n",
    "    .fade-image-1 {\n",
    "        transition: opacity 1s ease-in-out;\n",
    "    }\n",
    "</style>"
   ]
  },
  {
   "cell_type": "markdown",
   "id": "ddc25542",
   "metadata": {
    "slideshow": {
     "slide_type": "slide"
    }
   },
   "source": [
    "### Son to daughter in embedding space\n",
    "\n",
    "<div id=\"image-container-2\" style=\"width: 100%; margin: auto;\">\n",
    "    <img src=\"./figs/son-to-daughter-1.png\" style=\"width: 100%; position: absolute; opacity: 1;\" class=\"fade-image-2\">\n",
    "    <img src=\"./figs/son-to-daughter-2.png\" style=\"width: 100%; position: absolute; opacity: 0;\" class=\"fade-image-2\">\n",
    "    <img src=\"./figs/son-to-daughter-3.png\" style=\"width: 100%; position: absolute; opacity: 0;\" class=\"fade-image-2\">\n",
    "    <img src=\"./figs/son-to-daughter-4.png\" style=\"width: 100%; position: absolute; opacity: 0;\" class=\"fade-image-2\">\n",
    "</div>\n",
    "\n",
    "<script>\n",
    "let currentIndex2 = 0;\n",
    "const images2 = document.querySelectorAll('.fade-image-2');\n",
    "const fadeInterval2 = 3000;\n",
    "\n",
    "function fadeImages2() {\n",
    "    images2.forEach((img, index) => {\n",
    "        img.style.opacity = index === currentIndex2 ? 1 : 0;\n",
    "    });\n",
    "    currentIndex2 = (currentIndex2 + 1) % images2.length;\n",
    "}\n",
    "\n",
    "let fadeTimer2 = setInterval(fadeImages2, fadeInterval2);\n",
    "\n",
    "const observer2 = new IntersectionObserver(entries => {\n",
    "    entries.forEach(entry => {\n",
    "        if (entry.isIntersecting) {\n",
    "            clearInterval(fadeTimer2); // Stop any previous interval\n",
    "            currentIndex2 = 0; // Reset to the first image\n",
    "            fadeImages2(); // Show the first image immediately\n",
    "            fadeTimer2 = setInterval(fadeImages2, fadeInterval2); // Restart interval\n",
    "        }\n",
    "    });\n",
    "}, { threshold: 0.5 });\n",
    "\n",
    "observer2.observe(document.querySelector('#image-container-2'));\n",
    "</script>\n",
    "\n",
    "<style>\n",
    "    #image-container-2 {\n",
    "        position: relative;\n",
    "        height: 500px;\n",
    "    }\n",
    "\n",
    "    .fade-image-2 {\n",
    "        transition: opacity 1s ease-in-out;\n",
    "    }\n",
    "</style>\n",
    "\n",
    "*Scroll down to see 50-dimensional calculation*"
   ]
  },
  {
   "cell_type": "markdown",
   "id": "f012e7e3",
   "metadata": {
    "slideshow": {
     "slide_type": "subslide"
    }
   },
   "source": [
    "Intuitively, we would expect that if we subtract \"man\" from \"son\", and then add \"woman\", we should end up with \"daugther\".\n",
    "Let us see this is practice"
   ]
  },
  {
   "cell_type": "code",
   "execution_count": 29,
   "id": "1eb5bb01",
   "metadata": {},
   "outputs": [
    {
     "data": {
      "text/plain": [
       "tensor([ 0.1900,  1.1960, -0.5546, -0.5261,  1.0682])"
      ]
     },
     "execution_count": 29,
     "metadata": {},
     "output_type": "execute_result"
    }
   ],
   "source": [
    "embedding_son = vocab.vectors[vocab.stoi['son']]\n",
    "embedding_man = vocab.vectors[vocab.stoi['man']]\n",
    "embedding_woman = vocab.vectors[vocab.stoi['woman']]\n",
    "\n",
    "qvec = embedding_son - embedding_man + embedding_woman\n",
    "qvec[:5]"
   ]
  },
  {
   "cell_type": "markdown",
   "id": "91391ae2",
   "metadata": {},
   "source": [
    "We will now calculate the distances between `qvec` and all embeddings, finding the associated word that lies closest to `qvec`"
   ]
  },
  {
   "cell_type": "code",
   "execution_count": 30,
   "id": "9a3ec977",
   "metadata": {},
   "outputs": [
    {
     "data": {
      "text/plain": [
       "'daughter'"
      ]
     },
     "execution_count": 30,
     "metadata": {},
     "output_type": "execute_result"
    }
   ],
   "source": [
    "distances = torch.sum((vocab.vectors - qvec) ** 2, dim=1)\n",
    "closest = torch.argmin(distances)\n",
    "closest_word = vocab.itos[closest]\n",
    "closest_word"
   ]
  },
  {
   "cell_type": "markdown",
   "id": "3a6a9590",
   "metadata": {
    "slideshow": {
     "slide_type": "slide"
    }
   },
   "source": [
    "### Paris to(wards) Rome in embedding space\n",
    "\n",
    "<div id=\"image-container-3\" style=\"width: 100%; margin: auto;\">\n",
    "    <img src=\"./figs/paris-to-rome-1.png\" style=\"width: 100%; position: absolute; opacity: 1;\" class=\"fade-image-3\">\n",
    "    <img src=\"./figs/paris-to-rome-2.png\" style=\"width: 100%; position: absolute; opacity: 0;\" class=\"fade-image-3\">\n",
    "    <img src=\"./figs/paris-to-rome-3.png\" style=\"width: 100%; position: absolute; opacity: 0;\" class=\"fade-image-3\">\n",
    "    <img src=\"./figs/paris-to-rome-4.png\" style=\"width: 100%; position: absolute; opacity: 0;\" class=\"fade-image-3\">\n",
    "</div>\n",
    "\n",
    "<script>\n",
    "let currentIndex3 = 0;\n",
    "const images3 = document.querySelectorAll('.fade-image-3');\n",
    "const fadeInterval3 = 3000;\n",
    "\n",
    "function fadeImages3() {\n",
    "    images3.forEach((img, index) => {\n",
    "        img.style.opacity = index === currentIndex3 ? 1 : 0;\n",
    "    });\n",
    "    currentIndex3 = (currentIndex3 + 1) % images3.length;\n",
    "}\n",
    "\n",
    "let fadeTimer3 = setInterval(fadeImages3, fadeInterval3);\n",
    "\n",
    "const observer3 = new IntersectionObserver(entries => {\n",
    "    entries.forEach(entry => {\n",
    "        if (entry.isIntersecting) {\n",
    "            clearInterval(fadeTimer3); // Stop any previous interval\n",
    "            currentIndex3 = 0; // Reset to the first image\n",
    "            fadeImages3(); // Show the first image immediately\n",
    "            fadeTimer3 = setInterval(fadeImages3, fadeInterval3); // Restart interval\n",
    "        }\n",
    "    });\n",
    "}, { threshold: 0.5 });\n",
    "\n",
    "observer3.observe(document.querySelector('#image-container-3'));\n",
    "</script>\n",
    "\n",
    "<style>\n",
    "    #image-container-3 {\n",
    "        position: relative;\n",
    "        height: 500px;\n",
    "    }\n",
    "\n",
    "    .fade-image-3 {\n",
    "        transition: opacity 1s ease-in-out;\n",
    "    }\n",
    "</style>\n",
    "\n",
    "*Scroll down to see 50-dimensional calculation. In this case, while it does not quite work in two dimensions, it works in 50 dimensions*"
   ]
  },
  {
   "cell_type": "markdown",
   "id": "3e7a2e7b",
   "metadata": {
    "slideshow": {
     "slide_type": "subslide"
    }
   },
   "source": [
    "Intuitively, we would expect that if we subtract \"france\" from \"paris\", and then add \"italy\", we should end up with \"rome\".\n",
    "Let us see this is practice"
   ]
  },
  {
   "cell_type": "code",
   "execution_count": 31,
   "id": "7b7a76d8",
   "metadata": {},
   "outputs": [
    {
     "data": {
      "text/plain": [
       "tensor([ 1.8746,  0.1050, -1.0362,  0.2511,  0.2243])"
      ]
     },
     "execution_count": 31,
     "metadata": {},
     "output_type": "execute_result"
    }
   ],
   "source": [
    "embedding_paris = vocab.vectors[vocab.stoi['paris']]\n",
    "embedding_france = vocab.vectors[vocab.stoi['france']]\n",
    "embedding_italy = vocab.vectors[vocab.stoi['italy']]\n",
    "\n",
    "qvec = embedding_paris - embedding_france + embedding_italy\n",
    "qvec[:5]"
   ]
  },
  {
   "cell_type": "markdown",
   "id": "74ae964f",
   "metadata": {},
   "source": [
    "We will now calculate the distances between `qvec` and all embeddings, finding the associated word that lies closest to `qvec`"
   ]
  },
  {
   "cell_type": "code",
   "execution_count": 32,
   "id": "2fbc326a",
   "metadata": {},
   "outputs": [
    {
     "data": {
      "text/plain": [
       "'rome'"
      ]
     },
     "execution_count": 32,
     "metadata": {},
     "output_type": "execute_result"
    }
   ],
   "source": [
    "distances = torch.sum((vocab.vectors - qvec) ** 2, dim=1)\n",
    "closest = torch.argmin(distances)\n",
    "closest_word = vocab.itos[closest]\n",
    "closest_word"
   ]
  },
  {
   "cell_type": "markdown",
   "id": "fbc9eaeb",
   "metadata": {
    "slideshow": {
     "slide_type": "slide"
    }
   },
   "source": [
    "# Neural networks for text\n",
    "\n",
    "We now know how to represent text as numerical data suitable for modelling. \n",
    "Our next objective is to learn *how* to model text data\n",
    "\n",
    "One key observation is that text is somewhat similar to time series data, in that a clear *sequential* structure is present: The meaning of a word depends on its context, i.e., how it is embedded in a sentence\n",
    "\n",
    "Modern approaches roughly falls into one of two categories\n",
    "1. Recurrent neural networks (RNNs; \"classical\" approach)\n",
    "1. Transformers (SOTA)\n",
    "\n",
    "Let's take a look at RNNs"
   ]
  },
  {
   "cell_type": "markdown",
   "id": "943ba5e2",
   "metadata": {
    "slideshow": {
     "slide_type": "slide"
    }
   },
   "source": [
    "### A recurrent cell of a neural network\n",
    "\n",
    "<img src=\"./figs/figure_6-9.png\" alt=\"Drawing\" style=\"width: 400px;\"/>\n",
    "Source: Deep Learning with Python by Francois Collet (ISBN10: 9781617294433)\n",
    "\n",
    "We have not yet specified the type of recurrent connection, just that it has form\n",
    "\n",
    "$y_t = f(x_t, y_{t - 1})$\n",
    "\n",
    "We can think about an autoregressive linear model with covariates as one example\n",
    "\n",
    "$y_t = \\alpha y_{t - 1} + \\beta f_t$"
   ]
  },
  {
   "cell_type": "markdown",
   "id": "7641ab32",
   "metadata": {
    "slideshow": {
     "slide_type": "subslide"
    }
   },
   "source": [
    "### Recurrent cells and unfolding\n",
    "\n",
    "Usually, a recurrent neural network looks something like the image below - i.e., it has a \"loop\" where it feeds into itself (left). This can then be \"unfolded\" (right), in which way it looks more like a regular network, with an additional input and output (\"hidden states\").\n",
    "\n",
    "<img src=\"./figs/Recurrent_neural_network_unfold.svg\" alt=\"Drawing\" style=\"width: 600px;\"/>\n",
    "Source: \"fdeloche - Own work, CC BY-SA 4.0, https://commons.wikimedia.org/w/index.php?curid=60109157\""
   ]
  },
  {
   "cell_type": "markdown",
   "id": "cb27a110",
   "metadata": {
    "slideshow": {
     "slide_type": "slide"
    }
   },
   "source": [
    "### Long-term dependencies\n",
    "\n",
    "A weakness of the simple recurrent neural network is that it becomes very difficult to model long-term dependencies\n",
    "\n",
    "To address this, different architectures have been developed, typically with the primary difference being that the output $y_t$ is no longer passed on, but instead a \"hidden state\" is passed along\n",
    "\n",
    "This makes modelling long-term dependencies *much* easier, as we no longer have to rely on our output being the sole information we pass along to the next step\n",
    "\n",
    "The most commonly used architectures/\"layers\" are\n",
    "1. Long short-term memory (LSTM, [paper](https://ieeexplore.ieee.org/abstract/document/6795963))\n",
    "1. Gated recurrent unit (GRU, [paper](https://arxiv.org/abs/1406.1078))"
   ]
  },
  {
   "cell_type": "markdown",
   "id": "50f2cc27",
   "metadata": {
    "slideshow": {
     "slide_type": "slide"
    }
   },
   "source": [
    "### Long Short-Term Memory (LSTM)\n",
    "    \n",
    "<img src=\"./figs/Long_Short-Term_Memory.svg\" alt=\"Drawing\" style=\"width: 800px;\"/>\n",
    "Source: \"fdeloche - Own work, CC BY-SA 4.0, https://commons.wikimedia.org/w/index.php?curid=60149410\""
   ]
  },
  {
   "cell_type": "markdown",
   "id": "73cbc334",
   "metadata": {
    "slideshow": {
     "slide_type": "slide"
    }
   },
   "source": [
    "### Gated Recurrent Unit (GRU)\n",
    "\n",
    "<img src=\"./figs/Gated_Recurrent_Unit.svg\" alt=\"Drawing\" style=\"width: 800px;\"/>\n",
    "Source: \"fdeloche - Own work, CC BY-SA 4.0, https://commons.wikimedia.org/w/index.php?curid=60466441\""
   ]
  },
  {
   "cell_type": "markdown",
   "id": "37a14b07",
   "metadata": {
    "slideshow": {
     "slide_type": "slide"
    }
   },
   "source": [
    "# Case: The problem of Occupational Encoding\n",
    "### *OccCANINE* - and how to use it"
   ]
  },
  {
   "cell_type": "markdown",
   "id": "dcdca518",
   "metadata": {
    "slideshow": {
     "slide_type": "slide"
    }
   },
   "source": [
    "## The problem\n",
    "\n",
    "- We want to transcribe millions of records with various descriptions:\n",
    "  + \"farmer\", \"he is a farmer\", \"former teacher, now farmer\", \"has some land he tends to\", \"farmr\", etc.\n",
    "- And we want to do this for all types of occupations"
   ]
  },
  {
   "cell_type": "markdown",
   "id": "2ce8a823",
   "metadata": {},
   "source": [
    "## *OccCANINE* to the rescue!\n",
    "<img src=\"Figures/Architecture_small.png\" alt=\"Architecture small\" style=\"width: 600px;\"/>"
   ]
  },
  {
   "cell_type": "markdown",
   "id": "8febf57a",
   "metadata": {
    "slideshow": {
     "slide_type": "subslide"
    }
   },
   "source": [
    "![Architecture](Figures/Architecture.png)"
   ]
  },
  {
   "cell_type": "markdown",
   "id": "519b8347",
   "metadata": {
    "slideshow": {
     "slide_type": "slide"
    }
   },
   "source": [
    "### Performance\n",
    "![Performance_by_language.png](Figures/Performance_by_language.png)"
   ]
  },
  {
   "cell_type": "markdown",
   "id": "7fd4d035",
   "metadata": {
    "slideshow": {
     "slide_type": "slide"
    }
   },
   "source": [
    "## How does it work?\n",
    "**Concept:** Encoder-Decoder \n",
    "\n",
    "We *encode* a coneptual understanding into an embedding space and *decode* it into classes\n",
    "\n",
    "![t-sne](Figures/Plot_tsne_2d.png)"
   ]
  },
  {
   "cell_type": "markdown",
   "id": "ac95166e",
   "metadata": {
    "slideshow": {
     "slide_type": "slide"
    }
   },
   "source": [
    "## How to use it\n",
    "- All of this is repeated [here on YouTube](https://youtu.be/BF_oNe-sABQ?si=7jIkjYedj9rooein) and [here in a step by step guide](https://github.com/christianvedels/OccCANINE/blob/main/GETTING_STARTED.md)\n",
    "- Entrypoint: [github.com/christianvedels/OccCANINE](https://github.com/christianvedels/OccCANINE)"
   ]
  },
  {
   "cell_type": "markdown",
   "id": "ddeda9ec",
   "metadata": {
    "slideshow": {
     "slide_type": "subslide"
    }
   },
   "source": [
    "### What we cover\n",
    "- Basic functionality\n",
    "- How to apply it to a lot of data\n",
    "- How to finetune it\n",
    "\n",
    "**Note of caution:**  \n",
    "- Performance varies by language\n",
    "- You should have your application in mind when using\n",
    "- Please check 200 random observations when using it"
   ]
  },
  {
   "cell_type": "code",
   "execution_count": null,
   "id": "58ea16ab",
   "metadata": {
    "slideshow": {
     "slide_type": "subslide"
    }
   },
   "outputs": [],
   "source": [
    "from histocc import OccCANINE\n",
    "\n",
    "model = OccCANINE()\n",
    "result = model.predict(\n",
    "    [\n",
    "        \"tailor of the finest suits\", \n",
    "        \"local boiler maker\", \n",
    "        \"train's fireman\"\n",
    "    ]\n",
    ")"
   ]
  },
  {
   "cell_type": "code",
   "execution_count": 34,
   "id": "b93b3e5e",
   "metadata": {},
   "outputs": [
    {
     "data": {
      "text/html": [
       "<div>\n",
       "<style scoped>\n",
       "    .dataframe tbody tr th:only-of-type {\n",
       "        vertical-align: middle;\n",
       "    }\n",
       "\n",
       "    .dataframe tbody tr th {\n",
       "        vertical-align: top;\n",
       "    }\n",
       "\n",
       "    .dataframe thead th {\n",
       "        text-align: right;\n",
       "    }\n",
       "</style>\n",
       "<table border=\"1\" class=\"dataframe\">\n",
       "  <thead>\n",
       "    <tr style=\"text-align: right;\">\n",
       "      <th></th>\n",
       "      <th>inputs</th>\n",
       "      <th>hisco_1</th>\n",
       "      <th>prob_1</th>\n",
       "      <th>desc_1</th>\n",
       "      <th>hisco_2</th>\n",
       "      <th>prob_2</th>\n",
       "      <th>desc_2</th>\n",
       "      <th>hisco_3</th>\n",
       "      <th>prob_3</th>\n",
       "      <th>desc_3</th>\n",
       "      <th>hisco_4</th>\n",
       "      <th>prob_4</th>\n",
       "      <th>desc_4</th>\n",
       "      <th>hisco_5</th>\n",
       "      <th>prob_5</th>\n",
       "      <th>desc_5</th>\n",
       "    </tr>\n",
       "  </thead>\n",
       "  <tbody>\n",
       "    <tr>\n",
       "      <th>0</th>\n",
       "      <td>unk[SEP]tailor of the finest suits</td>\n",
       "      <td>79190</td>\n",
       "      <td>0.816917</td>\n",
       "      <td>Other Tailors and Dressmakers</td>\n",
       "      <td>NaN</td>\n",
       "      <td>NaN</td>\n",
       "      <td>No pred</td>\n",
       "      <td>NaN</td>\n",
       "      <td>NaN</td>\n",
       "      <td>No pred</td>\n",
       "      <td>NaN</td>\n",
       "      <td>NaN</td>\n",
       "      <td>No pred</td>\n",
       "      <td>NaN</td>\n",
       "      <td>NaN</td>\n",
       "      <td>No pred</td>\n",
       "    </tr>\n",
       "    <tr>\n",
       "      <th>1</th>\n",
       "      <td>unk[SEP]local boiler maker</td>\n",
       "      <td>87350</td>\n",
       "      <td>0.999340</td>\n",
       "      <td>Boilersmith</td>\n",
       "      <td>NaN</td>\n",
       "      <td>NaN</td>\n",
       "      <td>No pred</td>\n",
       "      <td>NaN</td>\n",
       "      <td>NaN</td>\n",
       "      <td>No pred</td>\n",
       "      <td>NaN</td>\n",
       "      <td>NaN</td>\n",
       "      <td>No pred</td>\n",
       "      <td>NaN</td>\n",
       "      <td>NaN</td>\n",
       "      <td>No pred</td>\n",
       "    </tr>\n",
       "    <tr>\n",
       "      <th>2</th>\n",
       "      <td>unk[SEP]train's fireman</td>\n",
       "      <td>98330</td>\n",
       "      <td>0.986884</td>\n",
       "      <td>Railway SteamEngine Fireman</td>\n",
       "      <td>NaN</td>\n",
       "      <td>NaN</td>\n",
       "      <td>No pred</td>\n",
       "      <td>NaN</td>\n",
       "      <td>NaN</td>\n",
       "      <td>No pred</td>\n",
       "      <td>NaN</td>\n",
       "      <td>NaN</td>\n",
       "      <td>No pred</td>\n",
       "      <td>NaN</td>\n",
       "      <td>NaN</td>\n",
       "      <td>No pred</td>\n",
       "    </tr>\n",
       "  </tbody>\n",
       "</table>\n",
       "</div>"
      ],
      "text/plain": [
       "                               inputs hisco_1    prob_1  \\\n",
       "0  unk[SEP]tailor of the finest suits   79190  0.816917   \n",
       "1          unk[SEP]local boiler maker   87350  0.999340   \n",
       "2             unk[SEP]train's fireman   98330  0.986884   \n",
       "\n",
       "                          desc_1  hisco_2  prob_2   desc_2  hisco_3  prob_3  \\\n",
       "0  Other Tailors and Dressmakers      NaN     NaN  No pred      NaN     NaN   \n",
       "1                    Boilersmith      NaN     NaN  No pred      NaN     NaN   \n",
       "2    Railway SteamEngine Fireman      NaN     NaN  No pred      NaN     NaN   \n",
       "\n",
       "    desc_3  hisco_4  prob_4   desc_4  hisco_5  prob_5   desc_5  \n",
       "0  No pred      NaN     NaN  No pred      NaN     NaN  No pred  \n",
       "1  No pred      NaN     NaN  No pred      NaN     NaN  No pred  \n",
       "2  No pred      NaN     NaN  No pred      NaN     NaN  No pred  "
      ]
     },
     "execution_count": 34,
     "metadata": {},
     "output_type": "execute_result"
    }
   ],
   "source": [
    "result"
   ]
  },
  {
   "cell_type": "markdown",
   "id": "5f310b69",
   "metadata": {
    "slideshow": {
     "slide_type": "subslide"
    }
   },
   "source": [
    "## Setup and use:\n",
    "We will go over this notebook: [https://github.com/christianvedels/OccCANINE/blob/main/OccCANINE_colab.ipynb](https://github.com/christianvedels/OccCANINE/blob/main/OccCANINE_colab.ipynb)\n"
   ]
  },
  {
   "cell_type": "markdown",
   "id": "90bf909d",
   "metadata": {
    "slideshow": {
     "slide_type": "slide"
    }
   },
   "source": [
    "# HISCO classifier\n",
    "\n",
    " Let's build a simple HISCO classifier using the tools introduced:\n",
    " 1. **Tokenization**: We'll use character-level tokenization\n",
    " 1. **Embedding layer**: We'll use a 100-dimensional embedding space\n",
    " 1. **Recurrent layer**: We'll use a GRU layer to model dependencies\n",
    "\n",
    " Combining these allow us to build a HISCO classifier \"from scratch\" which, when trained an 9000 observations, achieve >70% test accuracy"
   ]
  },
  {
   "cell_type": "markdown",
   "id": "82064571",
   "metadata": {
    "slideshow": {
     "slide_type": "slide"
    }
   },
   "source": [
    "### Building a character-level tokenizer"
   ]
  },
  {
   "cell_type": "code",
   "execution_count": 35,
   "id": "7ee3dd50",
   "metadata": {},
   "outputs": [],
   "source": [
    "from functools import partial\n",
    "\n",
    "import torch\n",
    "\n",
    "from torch import Tensor\n",
    "from torch.utils.data import Dataset\n",
    "\n",
    "import pandas as pd\n",
    "\n",
    "CHARS_IN_TOYDATA = [' ', '\"', \"'\", '(', ')', '*', '+', ',', '-', '.', '/', '0', '1', '2', '3', '4', '5', '6', '7', '8', '9', ':', ';', '?', '@', '[', ']', '_', '`', 'a', 'b', 'c', 'd', 'e', 'f', 'g', 'h', 'i', 'j', 'k', 'l', 'm', 'n', 'o', 'p', 'q', 'r', 's', 't', 'u', 'v', 'w', 'x', 'y', 'z', '{', '¢', '£', '©', '¬', 'Â', 'Ã', 'â', 'œ', 'š', 'ž', '‚', '„', '€']\n",
    "MAP_CHAR_IDX = {\n",
    "    char: idx for idx, char in enumerate(CHARS_IN_TOYDATA, start=2)\n",
    "}\n",
    "\n",
    "def tokenize(hisco: str, max_len: int) -> list[int]:\n",
    "    encoded = [MAP_CHAR_IDX.get(char, 0) for char in hisco]\n",
    "    encoded = encoded[:max_len]\n",
    "    encoded += [1] * (max_len - len(encoded))\n",
    "\n",
    "    return encoded"
   ]
  },
  {
   "cell_type": "markdown",
   "id": "3fec9eb8",
   "metadata": {
    "slideshow": {
     "slide_type": "subslide"
    }
   },
   "source": [
    "*Illustrating tokenizing occupational descriptions*"
   ]
  },
  {
   "cell_type": "code",
   "execution_count": 36,
   "id": "2cd31e28",
   "metadata": {},
   "outputs": [
    {
     "name": "stdout",
     "output_type": "stream",
     "text": [
      "Mapping \"f\" to \"36\"\n",
      "Mapping \"a\" to \"31\"\n",
      "Mapping \"r\" to \"48\"\n",
      "Mapping \"m\" to \"43\"\n",
      "Mapping \"e\" to \"35\"\n",
      "Mapping \"r\" to \"48\"\n"
     ]
    }
   ],
   "source": [
    "for char, token in zip('farmer', tokenize('farmer', 6)):\n",
    "    print(f'Mapping \"{char}\" to \"{token}\"')"
   ]
  },
  {
   "cell_type": "code",
   "execution_count": 37,
   "id": "98a44040",
   "metadata": {},
   "outputs": [
    {
     "data": {
      "text/plain": [
       "[39, 48, 45, 44, 2, 53, 45, 48, 41, 49, 2, 42, 31, 32, 45, 51, 48, 35, 48, 1]"
      ]
     },
     "execution_count": 37,
     "metadata": {},
     "output_type": "execute_result"
    }
   ],
   "source": [
    "tokenize('iron works labourer', 20) # longer example"
   ]
  },
  {
   "cell_type": "markdown",
   "id": "1a9bb0cd",
   "metadata": {
    "slideshow": {
     "slide_type": "slide"
    }
   },
   "source": [
    "### Building a HISCO dataset"
   ]
  },
  {
   "cell_type": "code",
   "execution_count": 38,
   "id": "cdb4a9d5",
   "metadata": {},
   "outputs": [],
   "source": [
    "class HISCODataset(Dataset):\n",
    "    def __init__(self, dataset: pd.DataFrame):\n",
    "        super().__init__()\n",
    "\n",
    "        self.dataset = dataset\n",
    "        self.tokenizer = partial(tokenize, max_len=32)\n",
    "\n",
    "    def __len__(self) -> int:\n",
    "        return len(self.dataset)\n",
    "\n",
    "    def __getitem__(self, item: int) -> dict[str, str | Tensor]:\n",
    "        record = self.dataset.iloc[item]\n",
    "        encoded = self.tokenizer(record.occ1)\n",
    "\n",
    "        package = {\n",
    "            'occ1': record.occ1,\n",
    "            'encoded': torch.tensor(encoded, dtype=torch.long),\n",
    "            'label': torch.tensor(record.label, dtype=torch.long),\n",
    "        }\n",
    "\n",
    "        return package"
   ]
  },
  {
   "cell_type": "code",
   "execution_count": 39,
   "id": "e72228d1",
   "metadata": {
    "slideshow": {
     "slide_type": "slide"
    }
   },
   "outputs": [
    {
     "data": {
      "text/html": [
       "<div>\n",
       "<style scoped>\n",
       "    .dataframe tbody tr th:only-of-type {\n",
       "        vertical-align: middle;\n",
       "    }\n",
       "\n",
       "    .dataframe tbody tr th {\n",
       "        vertical-align: top;\n",
       "    }\n",
       "\n",
       "    .dataframe thead th {\n",
       "        text-align: right;\n",
       "    }\n",
       "</style>\n",
       "<table border=\"1\" class=\"dataframe\">\n",
       "  <thead>\n",
       "    <tr style=\"text-align: right;\">\n",
       "      <th></th>\n",
       "      <th>occ1</th>\n",
       "      <th>label</th>\n",
       "    </tr>\n",
       "  </thead>\n",
       "  <tbody>\n",
       "    <tr>\n",
       "      <th>0</th>\n",
       "      <td>iron works labourer</td>\n",
       "      <td>1915</td>\n",
       "    </tr>\n",
       "    <tr>\n",
       "      <th>1</th>\n",
       "      <td>fireman midland railway</td>\n",
       "      <td>1885</td>\n",
       "    </tr>\n",
       "    <tr>\n",
       "      <th>2</th>\n",
       "      <td>ironstone mine foreman</td>\n",
       "      <td>513</td>\n",
       "    </tr>\n",
       "  </tbody>\n",
       "</table>\n",
       "</div>"
      ],
      "text/plain": [
       "                      occ1  label\n",
       "0      iron works labourer   1915\n",
       "1  fireman midland railway   1885\n",
       "2   ironstone mine foreman    513"
      ]
     },
     "execution_count": 39,
     "metadata": {},
     "output_type": "execute_result"
    }
   ],
   "source": [
    "import os\n",
    "from dirs import DATA_DIR\n",
    "\n",
    "train_data = pd.read_csv(os.path.join(DATA_DIR, 'toy_data_train.csv'))\n",
    "train_data.head(3)"
   ]
  },
  {
   "cell_type": "code",
   "execution_count": 40,
   "id": "8b52c25e",
   "metadata": {},
   "outputs": [
    {
     "data": {
      "text/plain": [
       "{'occ1': 'iron works labourer',\n",
       " 'encoded': tensor([39, 48, 45, 44,  2, 53, 45, 48, 41, 49,  2, 42, 31, 32, 45, 51, 48, 35,\n",
       "         48,  1,  1,  1,  1,  1,  1,  1,  1,  1,  1,  1,  1,  1]),\n",
       " 'label': tensor(1915)}"
      ]
     },
     "execution_count": 40,
     "metadata": {},
     "output_type": "execute_result"
    }
   ],
   "source": [
    "train_dataset = HISCODataset(train_data)\n",
    "train_dataset[0]"
   ]
  },
  {
   "cell_type": "markdown",
   "id": "02687a0e",
   "metadata": {
    "slideshow": {
     "slide_type": "subslide"
    }
   },
   "source": [
    "*So which HISCO code does the label 1915 refer to?*"
   ]
  },
  {
   "cell_type": "code",
   "execution_count": 41,
   "id": "21a4505f",
   "metadata": {},
   "outputs": [
    {
     "data": {
      "text/plain": [
       "99910"
      ]
     },
     "execution_count": 41,
     "metadata": {},
     "output_type": "execute_result"
    }
   ],
   "source": [
    "from histocc import DATASETS\n",
    "\n",
    "keys = DATASETS['keys']()\n",
    "map_hisco_label = dict(keys[['hisco', 'code']].values)\n",
    "map_label_hisco = {v: k for k, v in map_hisco_label.items()}\n",
    "\n",
    "map_label_hisco[1915]"
   ]
  },
  {
   "cell_type": "markdown",
   "id": "6297f9a2",
   "metadata": {},
   "source": [
    "*... and some other examples..*"
   ]
  },
  {
   "cell_type": "code",
   "execution_count": 42,
   "id": "bf65189d",
   "metadata": {},
   "outputs": [
    {
     "name": "stdout",
     "output_type": "stream",
     "text": [
      "\"iron works labourer\" has label 1915 -> HISCO: 99910\n",
      "\"fireman midland railway\" has label 1885 -> HISCO: 98330\n",
      "\"ironstone mine foreman\" has label 513 -> HISCO: 22610\n",
      "\"engineer fitter and turner\" has label 1321 -> HISCO: 83320\n",
      "\"carpenter deceased\" has label 1751 -> HISCO: 95410\n"
     ]
    }
   ],
   "source": [
    "for description, label in train_data.head(5).values:\n",
    "    hisco = map_label_hisco[label]\n",
    "    print(f'\"{description}\" has label {label} -> HISCO: {hisco}')"
   ]
  },
  {
   "cell_type": "markdown",
   "id": "8823da9d",
   "metadata": {
    "slideshow": {
     "slide_type": "slide"
    }
   },
   "source": [
    "With our dataset class, we can build data loaders, which are wrappers around our dataset responsible for creating a **batch** of data"
   ]
  },
  {
   "cell_type": "code",
   "execution_count": 43,
   "id": "2c946acb",
   "metadata": {},
   "outputs": [],
   "source": [
    "from torch.utils.data import DataLoader\n",
    "\n",
    "test_data = pd.read_csv(os.path.join(DATA_DIR, 'toy_data_test.csv'))\n",
    "test_dataset = HISCODataset(test_data)\n",
    "\n",
    "train_data_loader = DataLoader(train_dataset, batch_size=32)\n",
    "test_data_loader = DataLoader(test_dataset, batch_size=32)"
   ]
  },
  {
   "cell_type": "markdown",
   "id": "13290760",
   "metadata": {
    "slideshow": {
     "slide_type": "slide"
    }
   },
   "source": [
    "### Building a HISCO classifier\n",
    "\n",
    "**Goal**: Given an occupational description, provide its associated HISCO"
   ]
  },
  {
   "cell_type": "code",
   "execution_count": 44,
   "id": "4fa0c13f",
   "metadata": {},
   "outputs": [],
   "source": [
    "from torch import Tensor, nn\n",
    "\n",
    "\n",
    "class HISCOClassifier(nn.Module):\n",
    "    def __init__(self, vocab_size: int = 100, hidden_size: int = 128):\n",
    "        super().__init__()\n",
    "\n",
    "        self.embedding = nn.Embedding(vocab_size, hidden_size)\n",
    "        self.gru = nn.GRU(hidden_size, hidden_size, batch_first=True)\n",
    "        self.classifier = nn.Linear(hidden_size, 1919)\n",
    "\n",
    "    def forward(self, input_seq: Tensor) -> Tensor:\n",
    "        out = self.embedding(input_seq)\n",
    "        out, _ = self.gru(out)\n",
    "        out = out[:, -1, :]\n",
    "        out = self.classifier(out)\n",
    "\n",
    "        return out\n"
   ]
  },
  {
   "cell_type": "markdown",
   "id": "9709e690",
   "metadata": {
    "slideshow": {
     "slide_type": "slide"
    }
   },
   "source": [
    "We can can instantiate our **model**; we also need an objective (or **loss**) function and an **optimizer**"
   ]
  },
  {
   "cell_type": "code",
   "execution_count": 45,
   "id": "c876a6a3",
   "metadata": {},
   "outputs": [],
   "source": [
    "model = HISCOClassifier()\n",
    "\n",
    "# For single-label classification, cross entropy is the\n",
    "# standard loss function to use. This has the limitation\n",
    "# that it only allows ONE HISCO code for an occupational\n",
    "# description\n",
    "loss_fn = torch.nn.CrossEntropyLoss()\n",
    "\n",
    "# Adam/AdamW are common types of optimizers. An optimizer\n",
    "# is responsible for how we choose, based on derivatives\n",
    "# of our loss function with respect to our parameters, to\n",
    "# update the parameters of our model\n",
    "optimizer = torch.optim.AdamW(model.parameters(), lr=0.01)"
   ]
  },
  {
   "cell_type": "markdown",
   "id": "d6d2b696",
   "metadata": {
    "slideshow": {
     "slide_type": "slide"
    }
   },
   "source": [
    "### Building a training loop\n",
    "\n",
    "We now train our model by iteratively\n",
    "1. Draw a **batch** of descriptions and labels\n",
    "1. Make our model *predict* the labels given the descriptions\n",
    "1. Calculate the loss wrt. the predictions and labels\n",
    "1. Calculate the derivative of the loss wrt. the model parameters\n",
    "1. Update the model parameters"
   ]
  },
  {
   "cell_type": "code",
   "execution_count": 46,
   "id": "25818462",
   "metadata": {},
   "outputs": [],
   "source": [
    "def train_epoch(model, optimizer, data_loader, loss_fn):\n",
    "    model.train()\n",
    "\n",
    "    for batch in data_loader:\n",
    "        optimizer.zero_grad()\n",
    "        \n",
    "        out = model(batch['encoded']) # make predictions\n",
    "        loss = loss_fn(out, batch['label']) # calculate loss\n",
    "        loss.backward() # calculate derivatives\n",
    "\n",
    "        optimizer.step() # update network parameters"
   ]
  },
  {
   "cell_type": "markdown",
   "id": "f0328994",
   "metadata": {
    "slideshow": {
     "slide_type": "slide"
    }
   },
   "source": [
    "### Building an evaluation loop\n",
    "\n",
    "Ultimately, we want to evaluate our model in terms of how often it corretly predicts a HISCO code given an occupational description"
   ]
  },
  {
   "cell_type": "code",
   "execution_count": 47,
   "id": "65c11944",
   "metadata": {},
   "outputs": [],
   "source": [
    "@torch.no_grad\n",
    "def evaluate(model, data_loader):\n",
    "    model.eval()\n",
    "\n",
    "    total_correct = 0 # keep count of correct predictions\n",
    "    total_count = 0 # keep count of total number of predictions\n",
    "\n",
    "    for batch in data_loader:\n",
    "        out = model(batch['encoded']).argmax(1)\n",
    "\n",
    "        total_correct += (out == batch['label']).sum().item()\n",
    "        total_count += batch['label'].size(0)\n",
    "\n",
    "    return total_correct / total_count # calculate accuracy"
   ]
  },
  {
   "cell_type": "markdown",
   "id": "0d26d033",
   "metadata": {
    "slideshow": {
     "slide_type": "slide"
    }
   },
   "source": [
    "### Training our HISCO classifier\n",
    "\n",
    "We now train our model by looping over the training data 10 times"
   ]
  },
  {
   "cell_type": "code",
   "execution_count": 48,
   "id": "175ff0c8",
   "metadata": {},
   "outputs": [
    {
     "name": "stdout",
     "output_type": "stream",
     "text": [
      "Trained for 1 epochs. Validation accuracy: 65.2%\n",
      "Trained for 2 epochs. Validation accuracy: 70.6%\n",
      "Trained for 3 epochs. Validation accuracy: 71.8%\n",
      "Trained for 4 epochs. Validation accuracy: 72.5%\n",
      "Trained for 5 epochs. Validation accuracy: 72.1%\n",
      "Trained for 6 epochs. Validation accuracy: 73.9%\n",
      "Trained for 7 epochs. Validation accuracy: 71.5%\n",
      "Trained for 8 epochs. Validation accuracy: 73.8%\n",
      "Trained for 9 epochs. Validation accuracy: 72.3%\n",
      "Trained for 10 epochs. Validation accuracy: 74.2%\n"
     ]
    }
   ],
   "source": [
    "for epoch in range(1, 11):\n",
    "    train_epoch(model, optimizer, train_data_loader, loss_fn)\n",
    "    acc = evaluate(model, test_data_loader)\n",
    "    \n",
    "    print(f'Trained for {epoch} epochs. Validation accuracy: {100 * acc}%')"
   ]
  },
  {
   "cell_type": "markdown",
   "id": "2b668806",
   "metadata": {},
   "source": [
    "*if we were to always predict the most common class, we would only achieve 10% accuracy*"
   ]
  },
  {
   "cell_type": "markdown",
   "id": "ceb5c3e4",
   "metadata": {
    "slideshow": {
     "slide_type": "slide"
    }
   },
   "source": [
    "### Exercise 1: Experimenting with your own HISCO classifier\n",
    "\n",
    "Download the data files `toy_data_train.csv` and `toy_data_test.csv`, as well as the exercise notebook `exercise-hisco.ipynb`, and do the following:\n",
    "\n",
    "1. Reproduce the HISCO classification model from the slides by downloading and loading the datasets and running the associated code\n",
    "1. Try changing the `nn.GRU` layer to an `nn.RNN` layer and then to an `nn.LSTM` layer and train your new models\n",
    "1. Try changing the optimizer to something other than `torch.optim.AdamW`. A list of optimizers is available [here](https://pytorch.org/docs/stable/optim.html#algorithms)\n",
    "1. Experiment with, e.g., the types or numbers of layers in your model, the choice of optimizer and learning rate, or the number of epochs. How high performance can you achieve on the test split?\n",
    "\n",
    "You can also find this exercise as a [Colab hosted notebook](https://colab.research.google.com/drive/1mbNFvmWskNiLupxUj2znyLnh_lnVoJWo?usp=sharing)"
   ]
  },
  {
   "cell_type": "markdown",
   "id": "f4f66277-ac2c-468e-ba84-a9ff8c655f0e",
   "metadata": {
    "scrolled": true,
    "slideshow": {
     "slide_type": "slide"
    }
   },
   "source": [
    "# Transcription\n",
    "\n",
    "**Motivation**\n",
    "\n",
    "Historical data has a tendency to come in paper-form, often handwritten.\n",
    "This makes it challenging to work with, but none the less crucial if we want to answer questions such as\n",
    "\n",
    "<ol>\n",
    "    <li>What are long-run impacts of early-life policy interventions?</li>\n",
    "    <li>How has socioeconomic mobility changed over time?</li>\n",
    "    <li>What were impacts of introduction of welfare services?</li>\n",
    "</ol>\n",
    "\n",
    "<div style=\"margin-top: 10px;\">\n",
    "    <strong>Common denominator</strong> → we often need to look back in time to answer questions of relevance today\n",
    "</div>\n",
    "\n",
    "Answering these questions, which require historical data, thus implies a transcription process\n"
   ]
  },
  {
   "cell_type": "markdown",
   "id": "e806e7aa",
   "metadata": {
    "slideshow": {
     "slide_type": "slide"
    }
   },
   "source": [
    "## Document Digitization\n",
    "\n",
    "**Ambition**: Make any source of handwritten data as readily available for analysis as register data\n",
    "\n",
    "<div style=\"text-align: center; margin-top: 20px;\">\n",
    "    <img src=\"./figs/pipeline.jpg\" alt=\"Drawing\" style=\"width: 800px;\"/>\n",
    "</div>"
   ]
  },
  {
   "cell_type": "markdown",
   "id": "92c53e6c",
   "metadata": {
    "slideshow": {
     "slide_type": "slide"
    }
   },
   "source": [
    "## From Source to Output\n",
    "\n",
    "<div style=\"text-align: center; margin-top: 20px;\">\n",
    "    <img src=\"./figs/hana-transcription.png\" alt=\"Drawing\" style=\"width: 800px;\"/>\n",
    "</div>"
   ]
  },
  {
   "cell_type": "markdown",
   "id": "986f0575",
   "metadata": {
    "slideshow": {
     "slide_type": "subslide"
    }
   },
   "source": [
    "#### Visition Transformer Encoder/Transformer Decoder\n",
    "\n",
    "<div style=\"text-align: center; margin-top: 20px;\">\n",
    "    <img src=\"./figs/vit_enc_transformer_dec_v2.png\" alt=\"Drawing\" style=\"width: 800px;\"/>\n",
    "</div>"
   ]
  },
  {
   "cell_type": "markdown",
   "id": "2545e9a2",
   "metadata": {
    "slideshow": {
     "slide_type": "slide"
    }
   },
   "source": [
    "## Prerequisites\n",
    "\n",
    "ML works by learning from data - as such, we need good models *and* data\n",
    "\n",
    "<div style=\"display: flex; justify-content: space-around; margin-top: 10px;\">\n",
    "    <div style=\"text-align: center; width: 45%;\">\n",
    "        <strong>Models</strong>\n",
    "    </div>\n",
    "    <div style=\"text-align: center; width: 45%;\">\n",
    "        <strong>Data</strong>\n",
    "    </div>\n",
    "</div>\n",
    "\n",
    "<div style=\"display: flex; justify-content: space-around; margin-top: 10px;\">\n",
    "    <div style=\"width: 45%;\">\n",
    "        Generalizable, accurate models\n",
    "        <ul>\n",
    "            <li>High-level pipeline for end-to-end digitization</li>\n",
    "            <li>HTR models achieving super-human performance</li>\n",
    "        </ul>\n",
    "        <p style=\"font-size: small;\">\n",
    "            <a href=\"https://doi.org/10.1080/01615440.2023.2164879\" target=\"_blank\">https://doi.org/10.1080/01615440.2023.2164879</a>\n",
    "        </p>\n",
    "    </div>\n",
    "    <div style=\"width: 45%;\">\n",
    "        Large-scale, high-quality datasets\n",
    "        <ul>\n",
    "            <li><strong>HANA</strong>: Largest dataset of handwritten names</li>\n",
    "            <li><strong>DARE</strong>: Largest dataset of handwritten dates</li>\n",
    "        </ul>\n",
    "        <p style=\"font-size: small;\">\n",
    "            <a href=\"https://doi.org/10.1016/j.eeh.2022.101473\" target=\"_blank\">https://doi.org/10.1016/j.eeh.2022.101473</a>\n",
    "        </p>\n",
    "    </div>\n",
    "</div>\n"
   ]
  },
  {
   "cell_type": "markdown",
   "id": "ebc9cc95",
   "metadata": {
    "slideshow": {
     "slide_type": "slide"
    }
   },
   "source": [
    "## Performance: Dates\n",
    "\n",
    "<div style=\"text-align: center;\">\n",
    "    <img src=\"./figs/dc-dates.PNG\" alt=\"Dates Performance\" style=\"width: 100%;\">\n",
    "</div>\n",
    "\n",
    "<table style=\"width: 100%; margin-top: 10px; border-collapse: collapse;\">\n",
    "    <thead>\n",
    "        <tr>\n",
    "            <th></th>\n",
    "            <th>Date</th>\n",
    "            <th>Day</th>\n",
    "            <th>Month</th>\n",
    "            <th>Year</th>\n",
    "        </tr>\n",
    "    </thead>\n",
    "    <tbody>\n",
    "        <tr>\n",
    "            <td>Out-of-the-box</td>\n",
    "            <td>73.9</td>\n",
    "            <td></td>\n",
    "            <td></td>\n",
    "            <td></td>\n",
    "        </tr>\n",
    "        <tr>\n",
    "            <td>ML ('19)</td>\n",
    "            <td>90.5</td>\n",
    "            <td>96.0</td>\n",
    "            <td>97.0</td>\n",
    "            <td>97.2</td>\n",
    "        </tr>\n",
    "        <tr>\n",
    "            <td>Crowd sourcing</td>\n",
    "            <td>96.3</td>\n",
    "            <td>98.3</td>\n",
    "            <td>98.7</td>\n",
    "            <td>98.8</td>\n",
    "        </tr>\n",
    "        <tr>\n",
    "            <td>ML ('22)</td>\n",
    "            <td>97.7</td>\n",
    "            <td>99.2</td>\n",
    "            <td>99.0</td>\n",
    "            <td>99.2</td>\n",
    "        </tr>\n",
    "    </tbody>\n",
    "</table>\n",
    "\n",
    "<p style=\"text-align: center; font-size: small;\">\n",
    "    Transcription Accuracy (%). \"Out-of-the-box\" performance refers to <i>Transkribus</i> (<a href=\"https://readcoop.eu/transkribus/\" target=\"_blank\">https://readcoop.eu/transkribus/</a>).\n",
    "</p>\n"
   ]
  },
  {
   "cell_type": "markdown",
   "id": "ed6077c9",
   "metadata": {
    "slideshow": {
     "slide_type": "slide"
    }
   },
   "source": [
    "## Performance: Names\n",
    "\n",
    "<div style=\"text-align: center;\">\n",
    "    <img src=\"./figs/montage_grid_names_2x2_black.jpg\" alt=\"Names Performance\" style=\"width: 100%;\">\n",
    "</div>\n",
    "\n",
    "<table style=\"width: 100%; margin-top: 10px; border-collapse: collapse;\">\n",
    "    <thead>\n",
    "        <tr>\n",
    "            <th></th>\n",
    "            <th colspan=\"2\" style=\"text-align: center;\">Character Error Rate</th>\n",
    "            <th colspan=\"2\" style=\"text-align: center;\">Sequence Error Rate</th>\n",
    "        </tr>\n",
    "        <tr>\n",
    "            <th></th>\n",
    "            <th>First name</th>\n",
    "            <th>Last name</th>\n",
    "            <th>First name</th>\n",
    "            <th>Last name</th>\n",
    "        </tr>\n",
    "    </thead>\n",
    "    <tbody>\n",
    "        <tr>\n",
    "            <td>ML ('20)</td>\n",
    "            <td>1.4</td>\n",
    "            <td>1.5</td>\n",
    "            <td>4.9</td>\n",
    "            <td>5.7</td>\n",
    "        </tr>\n",
    "        <tr>\n",
    "            <td style=\"padding-left: 5px;\">matched</td>\n",
    "            <td>1.5</td>\n",
    "            <td>1.5</td>\n",
    "            <td>4.4</td>\n",
    "            <td>4.3</td>\n",
    "        </tr>\n",
    "        <tr>\n",
    "            <td>ML ('22)</td>\n",
    "            <td></td>\n",
    "            <td>0.9</td>\n",
    "            <td></td>\n",
    "            <td>3.2</td>\n",
    "        </tr>\n",
    "    </tbody>\n",
    "</table>\n",
    "\n",
    "<p style=\"text-align: center; font-size: small;\">\n",
    "    Transcription Accuracy (%).\n",
    "</p>\n"
   ]
  },
  {
   "cell_type": "markdown",
   "id": "b75a8ea6",
   "metadata": {
    "slideshow": {
     "slide_type": "slide"
    }
   },
   "source": [
    "### Exercise 2: Building an HTR model\n",
    "\n",
    "Download the exercise notebook `exercise-transcription.ipynb`, and do the following:\n",
    "\n",
    "1. Try experimenting with an alternative (non-linear) activation function to the `sigmoid` function used in the baseline model. A list of activation functions is available [here](https://pytorch.org/docs/stable/nn.functional.html#non-linear-activation-functions)\n",
    "1. Try changing the number of channels in the first convolutional layer (`self.conv1`) from 16 to 32. What else do you need to change to ensure the model still work? How does this affect the number of parameters of the model?\n",
    "1. Experiment with, e.g., the numbers of layers in your model (**note**: this may necessitate appropriately asjusting the subsequent layers), the choice of optimizer and learning rate, or the number of epochs. How high performance can you achieve on the test split?\n",
    "\n",
    "You can also find this exercise as a [Colab hosted notebook](https://colab.research.google.com/drive/1GnpFi2xGQDfOkvdito0gRVvlx9BybZcW?usp=sharing)"
   ]
  },
  {
   "cell_type": "markdown",
   "id": "55c81861",
   "metadata": {
    "slideshow": {
     "slide_type": "slide"
    }
   },
   "source": [
    "## **Application**: Copenhagen Infant Health Visitor Records (CIHVR)\n",
    "\n",
    "**What?** → collection of nurse records part of the Danish nurse home visiting programme\n",
    "\n",
    "**When and where?** → everyone living in CPH born 1959-1967\n",
    "\n",
    "<div style=\"text-align: center; margin-top: 20px;\">\n",
    "    <img src=\"figs/nhr_record.png\" alt=\"Nurse Home Record\" style=\"width: 100%;\">\n",
    "</div>\n"
   ]
  },
  {
   "cell_type": "markdown",
   "id": "fd480f06",
   "metadata": {
    "slideshow": {
     "slide_type": "slide"
    }
   },
   "source": [
    "## Nurse Home Visiting in Denmark\n",
    "\n",
    "Started in 1937 to reduce infant mortality, the National Board of Health felt the need to modernize the program in the 1950s\n",
    "\n",
    "<div style=\"margin-top: 10px;\">\n",
    "    This led to several trials, the purpose of which was to guide policy makers regarding how to modernize the program \n",
    "</div>\n",
    "\n",
    "<div style=\"text-align: center; margin-top: 20px;\">\n",
    "    <img src=\"./figs/shpbillede.jpg\" alt=\"Image 1\" style=\"width: 22%; margin-right: 1%;\">\n",
    "    <img src=\"./figs/shp_5.jpg\" alt=\"Image 2\" style=\"width: 22%; margin-right: 1%;\">\n",
    "    <img src=\"./figs/shp_3.jpg\" alt=\"Image 3\" style=\"width: 22%; margin-right: 1%;\">\n",
    "    <img src=\"./figs/shp_2.jpg\" alt=\"Image 4\" style=\"width: 22%;\">\n",
    "</div>\n",
    "\n",
    "<div style=\"text-align: center; margin-top: 10px; font-size: small;\">\n",
    "    Source: <i>Museum of Copenhagen; pictures taken in 1940s</i>\n",
    "</div>\n"
   ]
  },
  {
   "cell_type": "markdown",
   "id": "481e839a",
   "metadata": {
    "slideshow": {
     "slide_type": "slide"
    }
   },
   "source": [
    "## CIHVR - Digitization Process\n",
    "\n",
    "<div style=\"text-align: center;\">\n",
    "    <img src=\"./figs/cihvr-transcription.PNG\" alt=\"CIHVR Transcription Process\" style=\"width: 100%;\">\n",
    "</div>\n",
    "\n",
    "<div style=\"margin-top: 10px; font-size: small; text-align: center;\">\n",
    "    Source: <i>Lise G Bjerregaard, Miriam Wüst, Torben S D Johansen, Thorkild I A Sørensen, Christian M Dahl, Jennifer L Baker, Cohort Profile: The Copenhagen Infant Health Nurse Records (CIHNR) cohort, International Journal of Epidemiology, Volume 52, Issue 6, December 2023, Pages e340–e346, <a href=\"https://doi.org/10.1093/ije/dyad096\" target=\"_blank\">https://doi.org/10.1093/ije/dyad096</a></i>\n",
    "</div>\n"
   ]
  },
  {
   "cell_type": "markdown",
   "id": "a0d79931",
   "metadata": {
    "slideshow": {
     "slide_type": "slide"
    }
   },
   "source": [
    "## Step 1: Clustering the Documents\n",
    "\n",
    "Using unsupervised ML, we can cluster the ~280,000 documents into separate types\n",
    "\n",
    "<div style=\"text-align: center;\">\n",
    "    <img src=./figs/clustering.png alt=\"Drawing\" style=\"width: 500px;\"/>\n",
    "</div>"
   ]
  },
  {
   "cell_type": "markdown",
   "id": "3b1c4ba5",
   "metadata": {
    "slideshow": {
     "slide_type": "slide"
    }
   },
   "source": [
    "## Step 2: Image Segmentation (Point Drift)\n",
    "\n",
    "<div style=\"text-align: center;\">\n",
    "    <img src=\"./figs/large-im-cropped.png\" alt=\"Drawing\" style=\"width: 600px;\"/>\n",
    "</div>"
   ]
  },
  {
   "cell_type": "markdown",
   "id": "d4f6c781",
   "metadata": {
    "slideshow": {
     "slide_type": "slide"
    }
   },
   "source": [
    "## Step 2: Image Segmentation (Point Drift)\n",
    "\n",
    "<div style=\"text-align: center;\">\n",
    "    <img src=\"./figs/stacked-grids.png\" alt=\"Drawing\" style=\"width: 600px;\"/>\n",
    "</div>"
   ]
  },
  {
   "cell_type": "markdown",
   "id": "5257b34a",
   "metadata": {
    "slideshow": {
     "slide_type": "slide"
    }
   },
   "source": [
    "## Step 2: Image Segmentation (Point Drift)\n",
    "\n",
    "<div style=\"text-align: center;\">\n",
    "    <img src=\"./figs/stacked-grid-points.png\" alt=\"Drawing\" style=\"width: 600px;\"/>\n",
    "</div>"
   ]
  },
  {
   "cell_type": "markdown",
   "id": "3239abb2",
   "metadata": {
    "slideshow": {
     "slide_type": "slide"
    }
   },
   "source": [
    "## Step 2: Image Segmentation (Point Drift)\n",
    "\n",
    "<div style=\"text-align: center;\">\n",
    "    <img src=\"./figs/large-im-cropped-points.png\" alt=\"Drawing\" style=\"width: 600px;\"/>\n",
    "</div>"
   ]
  },
  {
   "cell_type": "markdown",
   "id": "fbae02f8",
   "metadata": {
    "slideshow": {
     "slide_type": "slide"
    }
   },
   "source": [
    "## Step 2: Image Segmentation (Point Drift)\n",
    "\n",
    "<div style=\"text-align: center;\">\n",
    "    <img src=\"./figs/cpd-gif.gif\" alt=\"Drawing\" style=\"width: 600px;\"/>\n",
    "</div>"
   ]
  },
  {
   "cell_type": "markdown",
   "id": "ff4dd720",
   "metadata": {
    "slideshow": {
     "slide_type": "slide"
    }
   },
   "source": [
    "## Step 2: Image Segmentation (Point Drift)\n",
    "\n",
    "<div style=\"text-align: center;\">\n",
    "    <img src=\"./figs/transformed-large-im-overlay-handcropped.png\" alt=\"Drawing\" style=\"width: 600px;\"/>\n",
    "</div>"
   ]
  },
  {
   "cell_type": "markdown",
   "id": "5f2d823b",
   "metadata": {
    "slideshow": {
     "slide_type": "slide"
    }
   },
   "source": [
    "## Step 3: Transcription\n",
    "\n",
    "<div style=\"text-align: center;\">\n",
    "    <img src=\"./figs/montage-weight.png\" alt=\"Drawing\" style=\"width: 600px;\"/>\n",
    "</div>"
   ]
  },
  {
   "cell_type": "markdown",
   "id": "4d3d84c8",
   "metadata": {
    "slideshow": {
     "slide_type": "slide"
    }
   },
   "source": [
    "## Research Question\n",
    "\n",
    "**RQ**: What are the long-run impact of universal preventive care for toddlers?\n",
    "\n",
    "**How**: Our analyses compare the outcomes of children exposed to *a three year vs. one year* nurse home visiting program in the 1960s in Copenhagen\n",
    "\n",
    "<div style=\"margin-top: 10px;\">\n",
    "    In contrast to earlier studies using large-scale data, we use individual-level exposure.\n",
    "    How? Using CIHVR and exploiting a large-scale trial\n",
    "</div>\n",
    "\n",
    "<div style=\"margin-top: 10px;\">\n",
    "    <ul>\n",
    "        <li><u>Data</u>: Transcribed handwritten nurse records, historical cohort data, and population administrative data</li>\n",
    "        <li><u>Identifying variation</u>: A trial at scale in the municipality of Copenhagen assigning a \"random\" subset of children to extended care</li>\n",
    "    </ul>\n",
    "</div>\n"
   ]
  },
  {
   "cell_type": "markdown",
   "id": "1f52063c",
   "metadata": {
    "slideshow": {
     "slide_type": "slide"
    }
   },
   "source": [
    "## Did the treatment assignment work? Yes!\n",
    "\n",
    "<div style=\"text-align: center;\">\n",
    "    <img src=\"./figs/share_longtable_matched_by_day.png\" alt=\"Treatment Assignment\" style=\"width: 80%;\">\n",
    "</div>\n"
   ]
  },
  {
   "cell_type": "markdown",
   "id": "a101b5db",
   "metadata": {
    "slideshow": {
     "slide_type": "slide"
    }
   },
   "source": [
    "## Childhood health\n",
    "\n",
    "<div style=\"text-align: center;\">\n",
    "    <div style=\"display: inline-block; width: 49%;\">\n",
    "        <img src=\"./figs/graph_vaccanti.png\" alt=\"Vacc. and antibiotics use\" style=\"width: 100%;\">\n",
    "        <div>Vacc. and antibiotics use</div>\n",
    "    </div>\n",
    "    <div style=\"display: inline-block; width: 49%;\">\n",
    "        <img src=\"./figs/graph_hosp_disease.png\" alt=\"Hosp. adm. and inf. disease\" style=\"width: 100%;\">\n",
    "        <div>Hosp. adm. and inf. disease</div>\n",
    "    </div>\n",
    "</div>\n",
    "\n",
    "**Significantly less antibiotics usage** - some evidence of more vaccinated; fewer hospital admissions and infectious diseases\n"
   ]
  },
  {
   "cell_type": "markdown",
   "id": "da10ec0a",
   "metadata": {
    "slideshow": {
     "slide_type": "slide"
    }
   },
   "source": [
    "## Survival - Observed Deaths\n",
    "\n",
    "<div style=\"text-align: center;\">\n",
    "    <img src=\"./figs/km_observeddeaths_pretty.png\" alt=\"Observed Deaths\" style=\"width: 80%;\">\n",
    "</div>\n",
    "\n",
    "**ATET**: 13% (sample mean of 8.3%)"
   ]
  },
  {
   "cell_type": "markdown",
   "id": "95e491d2",
   "metadata": {
    "slideshow": {
     "slide_type": "slide"
    }
   },
   "source": [
    "## Breastfeeding and long-run socioeconomic outcomes\n",
    "\n",
    "The CPH Nurse Records allow us to conduct the largest ever prospectively collected, population-based study on associations between duration and intensity of breastfeeding and adulthood socioeconomic outcomes.\n",
    "\n",
    "<div style=\"text-align: center; margin-top: 20px;\">\n",
    "    <img src=\"./figs/bf-and-edulen.png\" alt=\"Breastfeeding and Education\" style=\"width: 60%;\">\n",
    "    <div style=\"font-size: small; margin-top: 10px;\">\n",
    "        <i>Differences in years of education by duration of breastfeeding. Results reported separately by mother education.</i>\n",
    "    </div>\n",
    "</div>\n"
   ]
  },
  {
   "cell_type": "markdown",
   "id": "4eb22f64",
   "metadata": {
    "slideshow": {
     "slide_type": "slide"
    }
   },
   "source": [
    "## Link-Lives -- \"Register Data\" back to 1787\n",
    "\n",
    "<span style=\"color: blue;\">Link-Lives</span> is a project that aims to extend Danish \"register data\" back to 1787 by reconstructing life-courses and family relations of everyone living in Denmark from 1787.\n",
    "\n",
    "**How?**\n",
    "<div style=\"margin-top: 10px;\">\n",
    "    <ol>\n",
    "        <li>Transcribing individual-level information from censuses, birth records, death certificates, conscription records, patient records, autobiographies, ...</li>\n",
    "        <li>Linking individuals together to construct the complete Danish population tree of the last ≈ 250 years</li>\n",
    "    </ol>\n",
    "</div>\n",
    "\n",
    "<div style=\"margin-top: 50px; display: flex; justify-content: space-between;\">\n",
    "    <div style=\"width: 48%; font-size: small;\">\n",
    "        <a href=\"https://link-lives.dk/en/about-link-lives/\" target=\"_blank\">https://link-lives.dk/en/about-link-lives/</a>\n",
    "    </div>\n",
    "    <div style=\"width: 48%; text-align: center;\">\n",
    "        <img src=\"./figs/ll.svg\" alt=\"Link-Lives\" style=\"width: 50%;\">\n",
    "    </div>\n",
    "</div>\n"
   ]
  },
  {
   "cell_type": "markdown",
   "id": "e225185b",
   "metadata": {
    "slideshow": {
     "slide_type": "slide"
    }
   },
   "source": [
    "## Transcription at Scale\n",
    "\n",
    "As part of <span style=\"color: blue;\">Link-Lives</span>, we have transcribed the 1890, 1911, 1916, 1921, and 1925 full-count censuses\n",
    "\n",
    "<ol>\n",
    "    <li><strong>Resources</strong>: Partial transcriptions of some sources</li>\n",
    "    <li><strong>Scale</strong>: ≈ 250M segmented and transcribed images</li>\n",
    "    <li><strong>Performance</strong>: Heterogeneous & data-dependent</li>\n",
    "</ol>\n",
    "\n",
    "<div style=\"text-align: center; margin-top: 20px;\">\n",
    "    <img src=\"./figs/1925-0-shot-non-empty-3x1.png\" alt=\"Zero-shot transcription examples\" style=\"width: 100%;\">\n",
    "    <div style=\"font-size: small; margin-top: 10px;\"><i>Zero-shot transcription examples</i></div>\n",
    "</div>\n"
   ]
  }
 ],
 "metadata": {
  "kernelspec": {
   "display_name": "Python 3 (ipykernel)",
   "language": "python",
   "name": "python3"
  },
  "language_info": {
   "codemirror_mode": {
    "name": "ipython",
    "version": 3
   },
   "file_extension": ".py",
   "mimetype": "text/x-python",
   "name": "python",
   "nbconvert_exporter": "python",
   "pygments_lexer": "ipython3",
   "version": "3.11.5"
  }
 },
 "nbformat": 4,
 "nbformat_minor": 5
}
