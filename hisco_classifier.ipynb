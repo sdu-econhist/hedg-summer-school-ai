{
 "cells": [
  {
   "cell_type": "code",
   "execution_count": 1,
   "metadata": {},
   "outputs": [],
   "source": [
    "import os\n",
    "\n",
    "import torch\n",
    "\n",
    "from torch.utils.data import DataLoader\n",
    "\n",
    "import pandas as pd\n",
    "\n",
    "from dataset import HISCODataset\n",
    "from model import HISCOClassifier\n",
    "from dirs import DATA_DIR"
   ]
  },
  {
   "cell_type": "code",
   "execution_count": 2,
   "metadata": {},
   "outputs": [],
   "source": [
    "train_data = pd.read_csv(os.path.join(DATA_DIR, 'toy_data_train.csv'))\n",
    "test_data = pd.read_csv(os.path.join(DATA_DIR, 'toy_data_test.csv'))"
   ]
  },
  {
   "cell_type": "code",
   "execution_count": 3,
   "metadata": {},
   "outputs": [],
   "source": [
    "dataset_train = HISCODataset(train_data)\n",
    "dataset_test = HISCODataset(test_data)"
   ]
  },
  {
   "cell_type": "code",
   "execution_count": 4,
   "metadata": {},
   "outputs": [],
   "source": [
    "data_loader_train = DataLoader(dataset_train, batch_size=32)\n",
    "data_loader_val = DataLoader(dataset_test, batch_size=32)"
   ]
  },
  {
   "cell_type": "code",
   "execution_count": 5,
   "metadata": {},
   "outputs": [],
   "source": [
    "model = HISCOClassifier()"
   ]
  },
  {
   "cell_type": "code",
   "execution_count": 6,
   "metadata": {},
   "outputs": [],
   "source": [
    "optimizer = torch.optim.AdamW(model.parameters(), lr=0.01)\n",
    "loss_fn = torch.nn.CrossEntropyLoss()"
   ]
  },
  {
   "cell_type": "code",
   "execution_count": 7,
   "metadata": {},
   "outputs": [],
   "source": [
    "def train_epoch(model, optimizer, data_loader, loss_fn):\n",
    "    model.train()\n",
    "\n",
    "    for idx, batch in enumerate(data_loader, start=1):\n",
    "        # if idx % 10 == 0:\n",
    "        #     print(f'Batch {idx} of {len(data_loader)}')\n",
    "        optimizer.zero_grad()\n",
    "        \n",
    "        out = model(batch['encoded'])\n",
    "        loss = loss_fn(out, batch['label'])\n",
    "        loss.backward()\n",
    "\n",
    "        optimizer.step()"
   ]
  },
  {
   "cell_type": "code",
   "execution_count": 8,
   "metadata": {},
   "outputs": [],
   "source": [
    "@torch.no_grad\n",
    "def evaluate(model, data_loader):\n",
    "    model.eval()\n",
    "\n",
    "    total_correct = 0\n",
    "    total_count = 0\n",
    "\n",
    "    for batch in data_loader:\n",
    "        out = model(batch['encoded'])\n",
    "\n",
    "        total_correct += (out.argmax(1) == batch['label']).sum().item()\n",
    "        total_count += batch['label'].size(0)\n",
    "\n",
    "    return total_correct / total_count"
   ]
  },
  {
   "cell_type": "code",
   "execution_count": 9,
   "metadata": {},
   "outputs": [
    {
     "name": "stdout",
     "output_type": "stream",
     "text": [
      "Trained for 1 epochs. Validation accuracy: 0.676\n",
      "Trained for 2 epochs. Validation accuracy: 0.701\n",
      "Trained for 3 epochs. Validation accuracy: 0.711\n",
      "Trained for 4 epochs. Validation accuracy: 0.742\n",
      "Trained for 5 epochs. Validation accuracy: 0.765\n",
      "Trained for 6 epochs. Validation accuracy: 0.759\n",
      "Trained for 7 epochs. Validation accuracy: 0.753\n",
      "Trained for 8 epochs. Validation accuracy: 0.751\n",
      "Trained for 9 epochs. Validation accuracy: 0.759\n",
      "Trained for 10 epochs. Validation accuracy: 0.756\n"
     ]
    }
   ],
   "source": [
    "for epoch in range(1, 11):\n",
    "    train_epoch(model, optimizer, data_loader_train, loss_fn)\n",
    "    acc = evaluate(model, data_loader_val)\n",
    "    \n",
    "    print(f'Trained for {epoch} epochs. Validation accuracy: {acc}')"
   ]
  },
  {
   "cell_type": "code",
   "execution_count": null,
   "metadata": {},
   "outputs": [],
   "source": []
  }
 ],
 "metadata": {
  "kernelspec": {
   "display_name": "hedg-summer-school",
   "language": "python",
   "name": "python3"
  },
  "language_info": {
   "codemirror_mode": {
    "name": "ipython",
    "version": 3
   },
   "file_extension": ".py",
   "mimetype": "text/x-python",
   "name": "python",
   "nbconvert_exporter": "python",
   "pygments_lexer": "ipython3",
   "version": "3.11.9"
  }
 },
 "nbformat": 4,
 "nbformat_minor": 2
}
