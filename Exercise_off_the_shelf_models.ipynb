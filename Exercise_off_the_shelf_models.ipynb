{
  "cells": [
    {
      "cell_type": "markdown",
      "id": "d3947311-76e4-4be7-90ae-c0783b57a16b",
      "metadata": {
        "id": "d3947311-76e4-4be7-90ae-c0783b57a16b"
      },
      "source": [
        "# Exercise: Off-the shelf models from HuggingFace\n",
        "The purpose of today's module is to introduce you to techniques for advanced machine learning pipelines in Economic History. But first of all, we will skip ahead to the end and show you a very simple way of interacting with cutting edge off-the-shelf models.\n",
        "\n",
        "We don't have to reinvent the wheel. The AI community has a culture of open source and sharing. This also means that even some of the largest and most advanced ML models (in their trained form) are freely available. In this exercise, we will have a look at one of the popular sites, [HuggingFace](https://huggingface.co/), which hosts models like this.\n",
        "\n",
        "The goal of the following exercise is to:\n",
        "1. Introduce you to Python\n",
        "2. Familiarize you with the `pipeline` interface in the `transformers` library\n",
        "3. Introduce you to one of the most common text analysis tools: Sentiment analysisis"
      ]
    },
    {
      "cell_type": "markdown",
      "id": "a628d76a-3d1c-477c-8572-68ad67b70f22",
      "metadata": {
        "id": "a628d76a-3d1c-477c-8572-68ad67b70f22"
      },
      "source": [
        "### Prewritten functions (run these before you run anything else)\n",
        "Since the point of this is not for you to get caught in data-tinkering, we have written a few functions to handle things that otherwise takes some tinkering. You can see them below, and you have to load them to be able to solve the exercises."
      ]
    },
    {
      "cell_type": "code",
      "execution_count": 1,
      "id": "9a9d47b1-83a1-4ff5-b209-f8831d791c50",
      "metadata": {
        "id": "9a9d47b1-83a1-4ff5-b209-f8831d791c50"
      },
      "outputs": [],
      "source": [
        "# Libraries\n",
        "import requests\n",
        "import re\n",
        "import matplotlib.pyplot as plt"
      ]
    },
    {
      "cell_type": "code",
      "execution_count": 2,
      "id": "21f301da-bf5c-4774-8c44-a1995d1903da",
      "metadata": {
        "id": "21f301da-bf5c-4774-8c44-a1995d1903da"
      },
      "outputs": [],
      "source": [
        "def get_notes_from_the_underground():\n",
        "    \"\"\"\n",
        "    This function retrieves *Notes from the Underground* from the Gutenberg\n",
        "    website. It also does some text cleaning and separates each sentence into\n",
        "    list elements.\n",
        "    \"\"\"\n",
        "    url = 'https://www.gutenberg.org/cache/epub/600/pg600.txt'\n",
        "    response = requests.get(url)\n",
        "    if response.status_code == 200:\n",
        "        response.encoding = 'utf-8'\n",
        "        text = response.text\n",
        "\n",
        "        # Split text into sentences\n",
        "        sentences = re.split(r'(?<!\\w\\.\\w.)(?<![A-Z][a-z]\\.)(?<=\\.|\\?)\\s|\\r\\n\\r\\n', text)\n",
        "\n",
        "        # Clean text\n",
        "        sentences = sentences[11:]\n",
        "        sentences = sentences[:-117]\n",
        "\n",
        "        return sentences\n",
        "\n",
        "    else:\n",
        "        raise Exception(f\"Failed to retrieve data from {url}. Status code: {response.status_code}\")\n",
        "\n",
        "    return text\n"
      ]
    },
    {
      "cell_type": "code",
      "execution_count": 3,
      "id": "08c7f712-be73-4a3c-a939-bda4c3399809",
      "metadata": {
        "id": "08c7f712-be73-4a3c-a939-bda4c3399809"
      },
      "outputs": [],
      "source": [
        "def get_pride_and_prejudice():\n",
        "    \"\"\"\n",
        "    This function retrieves \"Pride and Prejudice\" by Jane Austen from the\n",
        "    Gutenberg website. It also does some text cleaning and separates each\n",
        "    sentence into list elements.\n",
        "    \"\"\"\n",
        "    url = 'https://www.gutenberg.org/cache/epub/1342/pg1342.txt'\n",
        "    response = requests.get(url)\n",
        "    if response.status_code == 200:\n",
        "        response.encoding = 'utf-8'\n",
        "        text = response.text\n",
        "\n",
        "        # Split text into sentences\n",
        "        sentences = re.split(r'(?<!\\w\\.\\w.)(?<![A-Z][a-z]\\.)(?<=\\.|\\?)\\s|\\r\\n\\r\\n', text)\n",
        "\n",
        "        # Clean text\n",
        "        sentences = sentences[300:]\n",
        "        sentences = sentences[:-121]\n",
        "\n",
        "        return sentences\n",
        "\n",
        "    else:\n",
        "        raise Exception(f\"Failed to retrieve data from {url}. Status code: {response.status_code}\")\n",
        "\n",
        "    return text"
      ]
    },
    {
      "cell_type": "code",
      "execution_count": 4,
      "id": "f5b50256-0442-4ddb-9909-81db4deb9b32",
      "metadata": {
        "id": "f5b50256-0442-4ddb-9909-81db4deb9b32"
      },
      "outputs": [],
      "source": [
        "def get_positive_score(x):\n",
        "    \"\"\"\n",
        "    The pipeline returns 'POSITIVE' or 'NEGATIVE' and a probability, where the\n",
        "    label is based on what is the most likely sentiment of the sentence. It\n",
        "    turns out to be useful to have one continuous score from -1 to 1, which\n",
        "    captures completely 'postive' if 1 and completely 'negative' if -1. This\n",
        "    function handles that.\n",
        "    \"\"\"\n",
        "    if x[\"label\"] == \"POSITIVE\":\n",
        "        res_x = x['score']\n",
        "    elif x[\"label\"] == \"NEGATIVE\":\n",
        "        res_x = 1 - x['score']\n",
        "    else:\n",
        "        raise Exception(x[\"label\"]+\"This should not be possible\")\n",
        "\n",
        "    res_x = res_x*2-1 # Expand to -1 to 1 scale\n",
        "\n",
        "    return res_x"
      ]
    },
    {
      "cell_type": "markdown",
      "id": "2f67cc27-2a0f-4a01-9dbd-b58a52752b45",
      "metadata": {
        "id": "2f67cc27-2a0f-4a01-9dbd-b58a52752b45"
      },
      "source": [
        "## 1. Sentiment analysis of *Notes from the Underground*\n",
        "One of the most common tasks to run on texts is sentiment analysis. In sentiment analysis, we are interested in extracting a positive or negative score of a piece of text. This could be anything from [historical diaries](https://doi.org/10.1111/ehr.13344), to modern financial news.\n",
        "\n",
        "In this exercise, you are asked to run sentiment analysis on all of [\"Notes from the Underground\" by Fyodor Dostoyevsky](https://www.gutenberg.org/cache/epub/600/pg600.txt)"
      ]
    },
    {
      "cell_type": "markdown",
      "id": "8d845e01-1a7f-493d-bf01-d4c58a3ff72a",
      "metadata": {
        "id": "8d845e01-1a7f-493d-bf01-d4c58a3ff72a"
      },
      "source": [
        "## Exercise 1.1\n",
        "You can access many of the highest-performing transformer models via a simple call to `pipeline` to initiate a model.\n",
        "\n",
        "**a) Please execute the code below. Is the results as expected? How would the result be, if we simply counted positive words?**"
      ]
    },
    {
      "cell_type": "code",
      "execution_count": 5,
      "id": "a5686202-fd75-4fdc-be5c-cba964add43a",
      "metadata": {
        "colab": {
          "base_uri": "https://localhost:8080/",
          "height": 267,
          "referenced_widgets": [
            "e12cdd4eeb6c4134a1e757f698de78ac",
            "5d4acb6cad0f43b3b53a96941e1dc016",
            "f1d4cccb87344b82a73103d7458514d0",
            "183b82e50aab4c1c9b509e88debe1817",
            "36cff40ffa1b426f8d43b3d5abda1dc5",
            "0f1fadce3e42460892e08232bfea1b22",
            "0982cb375dcd4ef99cb48ef3cd6e0b53",
            "6b452d61400f492a985a0cd507f5dcc9",
            "0524f850747f4437a1abab477535f0d8",
            "852c3e17a83244f1a9bdf2be922871e6",
            "f47ef976414241ac92e749f17db51425",
            "668edccacd5242a1995ff62fccfe2799",
            "e17d8d77bde14ac1b93d7ec6ffa240f7",
            "f281cb975d334f548d6bdc47411f6374",
            "6a8c7d0ffad540d3912c106485a28603",
            "ad37d06433fe4945bdbef880370f2f2c",
            "b795ed7f7c714af8ad3b756e4d162fbc",
            "bcc3052352d34a088ed499fa43eeee8d",
            "4331b0ffc781472caa39df62406eb4b9",
            "1f14e14387bf47bf92a3bc4fa7454ece",
            "2dc3e5388ca047589443200056e3dfb0",
            "17a76f616d9d41529a0bdea316f4feff",
            "0d8f413c85004bf499c6d63563d1f242",
            "977c9187df414cc885a9f0382fb01118",
            "b1b2c15876b041d6a4104a22b4f5b7ef",
            "25d347cd89c54160bf3b021a5f1348e3",
            "f0a036dda97a4d29a583a4b54b6dec64",
            "b970c62b1b6849b99a78cf75ba467dae",
            "063cc9d7f7e14e36a69ba1964877b232",
            "9c8b9bafbcf346658140e565146da7bb",
            "b26536bb66994d7c8881e005d483baec",
            "ecdd817ebd944986b95a9a4b34c43ff0",
            "869a5b6bdd6142bb98bab08678f6abdd",
            "6bc4acad6fea4d41a2c66437942e32b7",
            "73f6a66c208a40fa862c88fae681e2d2",
            "b0f4ce1941444b30a3b548bf8eef608b",
            "a068246ba6674115a6be6e3dda0b5c2e",
            "dc5a82d2e3784eb5b7f1ad9e9d6cabd1",
            "aeb08e07f3e94c1c97503d99ba9671b2",
            "5e978b4993404d619e78156026c5bd40",
            "52083c1d25624ccd84af57c9e8e0c401",
            "8455b757e8eb4e4a924880b5f033dfdf",
            "e26e1bb4418b46c6a2eeaed48a0716c5",
            "1f17f40754c946b9b997eb3e5254df05"
          ]
        },
        "id": "a5686202-fd75-4fdc-be5c-cba964add43a",
        "outputId": "d32e7f7d-668f-4fa2-e0f7-ed460bd2cf42"
      },
      "outputs": [
        {
          "output_type": "stream",
          "name": "stderr",
          "text": [
            "/usr/local/lib/python3.10/dist-packages/huggingface_hub/utils/_token.py:89: UserWarning: \n",
            "The secret `HF_TOKEN` does not exist in your Colab secrets.\n",
            "To authenticate with the Hugging Face Hub, create a token in your settings tab (https://huggingface.co/settings/tokens), set it as secret in your Google Colab and restart your session.\n",
            "You will be able to reuse this secret in all of your notebooks.\n",
            "Please note that authentication is recommended but still optional to access public models or datasets.\n",
            "  warnings.warn(\n"
          ]
        },
        {
          "output_type": "display_data",
          "data": {
            "text/plain": [
              "config.json:   0%|          | 0.00/629 [00:00<?, ?B/s]"
            ],
            "application/vnd.jupyter.widget-view+json": {
              "version_major": 2,
              "version_minor": 0,
              "model_id": "e12cdd4eeb6c4134a1e757f698de78ac"
            }
          },
          "metadata": {}
        },
        {
          "output_type": "display_data",
          "data": {
            "text/plain": [
              "model.safetensors:   0%|          | 0.00/268M [00:00<?, ?B/s]"
            ],
            "application/vnd.jupyter.widget-view+json": {
              "version_major": 2,
              "version_minor": 0,
              "model_id": "668edccacd5242a1995ff62fccfe2799"
            }
          },
          "metadata": {}
        },
        {
          "output_type": "display_data",
          "data": {
            "text/plain": [
              "tokenizer_config.json:   0%|          | 0.00/48.0 [00:00<?, ?B/s]"
            ],
            "application/vnd.jupyter.widget-view+json": {
              "version_major": 2,
              "version_minor": 0,
              "model_id": "0d8f413c85004bf499c6d63563d1f242"
            }
          },
          "metadata": {}
        },
        {
          "output_type": "display_data",
          "data": {
            "text/plain": [
              "vocab.txt:   0%|          | 0.00/232k [00:00<?, ?B/s]"
            ],
            "application/vnd.jupyter.widget-view+json": {
              "version_major": 2,
              "version_minor": 0,
              "model_id": "6bc4acad6fea4d41a2c66437942e32b7"
            }
          },
          "metadata": {}
        },
        {
          "output_type": "stream",
          "name": "stdout",
          "text": [
            "[{'label': 'NEGATIVE', 'score': 0.9866785407066345}]\n"
          ]
        }
      ],
      "source": [
        "from transformers import pipeline\n",
        "classifier = pipeline(\"sentiment-analysis\", model = \"distilbert/distilbert-base-uncased-finetuned-sst-2-english\")\n",
        "result = classifier(\"That would have been splendid. Absoloutly amazing. But it was quite the opposite.\")\n",
        "print(result)"
      ]
    },
    {
      "cell_type": "markdown",
      "id": "5ec5f508-3261-496e-87bc-5d21f405a749",
      "metadata": {
        "id": "5ec5f508-3261-496e-87bc-5d21f405a749"
      },
      "source": [
        "**b) Try running the classifier on the opening of *Notes from the Underground*:**\n",
        "> \"I am a sick man.... I am a spiteful man. I am an unattractive man. I\n",
        "believe my liver is diseased\"."
      ]
    },
    {
      "cell_type": "code",
      "execution_count": null,
      "id": "2a6778a6-d493-4e7e-ae9e-f28b562add38",
      "metadata": {
        "id": "2a6778a6-d493-4e7e-ae9e-f28b562add38"
      },
      "outputs": [],
      "source": [
        "result = classifier(\"...\")\n",
        "print(result)"
      ]
    },
    {
      "cell_type": "markdown",
      "id": "91496c8b-59e8-4f3c-a639-550bedbba315",
      "metadata": {
        "id": "91496c8b-59e8-4f3c-a639-550bedbba315"
      },
      "source": [
        "## Exercise 1.2\n",
        "We will now load up the entire book to run the analysis on the entire book. We've written a small function, `get_notes_from_the_underground`, for you to execute this easily.\n",
        "\n",
        "**a) Use `get_notes_from_the_underground` to load the text into an object called `notes_from_the_underground`**  \n",
        "**b) Print `text[0:10]`. Does this correspond to the text in the book? https://www.gutenberg.org/cache/epub/600/pg600.txt**  \n",
        "**c) Apply sentiment analysis to element of the `text` object.**  \n",
        "**d) Copy paste this exercise (including context) and ask ChatGPT for Python code to illustrate how sentiment develops over time. (Hint: look at moving averages over 50 sentences).**  \n",
        "**e) Does the development in the sentiment correspond to what you expected?**  \n",
        "**f) Extra: Run the same analysis for *Pride and Prejudice* by Jane Austin. Is it as dark as *Notes from the Underground?***"
      ]
    },
    {
      "cell_type": "markdown",
      "id": "d709a628-98bd-43b2-98ed-a7da33452bca",
      "metadata": {
        "id": "d709a628-98bd-43b2-98ed-a7da33452bca"
      },
      "source": [
        "#### a)\n",
        "**Hint:** You can use the function `get_notes_from_the_underground()`"
      ]
    },
    {
      "cell_type": "code",
      "execution_count": 8,
      "id": "069fa7d9-07dc-46d9-bdff-e6de7abce151",
      "metadata": {
        "id": "069fa7d9-07dc-46d9-bdff-e6de7abce151"
      },
      "outputs": [],
      "source": [
        "notes_from_the_underground = ..."
      ]
    },
    {
      "cell_type": "markdown",
      "id": "b0364e54-e81c-4f4d-8a24-95d0372715bd",
      "metadata": {
        "id": "b0364e54-e81c-4f4d-8a24-95d0372715bd"
      },
      "source": [
        "#### b)\n",
        "**Hint:** Python is zero-indexed. I.e. you subset like this: `x[0:10]`"
      ]
    },
    {
      "cell_type": "code",
      "execution_count": null,
      "id": "a123ebba-a390-4f32-be4d-f69628a519ab",
      "metadata": {
        "id": "a123ebba-a390-4f32-be4d-f69628a519ab"
      },
      "outputs": [],
      "source": [
        "print(...)"
      ]
    },
    {
      "cell_type": "markdown",
      "source": [
        "#### c)\n",
        "**Hint 1:** The function `classifier` spits out the most probable class (Negative/Positive) and its probability. To get the overall sentiment score, we have supplied you with a function, `get_positive_score`, which normalizes the output to be `-1`, if it is absoloutly certain it is negative, and `1` if it is certain it is positive (and in between if it is in between).  \n",
        "**Hint 2:** This runs on every single sentence in the entire book. It takes a bit of time to run."
      ],
      "metadata": {
        "id": "TuEKA6R2moEu"
      },
      "id": "TuEKA6R2moEu"
    },
    {
      "cell_type": "code",
      "execution_count": null,
      "id": "8a669d2f-24a5-4c18-bb47-9beecba501ff",
      "metadata": {
        "id": "8a669d2f-24a5-4c18-bb47-9beecba501ff"
      },
      "outputs": [],
      "source": [
        "out = classifier(...)\n",
        "result = [get_positive_score(x) for x in out]\n",
        "print(result)"
      ]
    },
    {
      "cell_type": "markdown",
      "source": [
        "#### d)"
      ],
      "metadata": {
        "id": "tSYPbXAfoB88"
      },
      "id": "tSYPbXAfoB88"
    },
    {
      "cell_type": "code",
      "execution_count": null,
      "id": "5e15950b-85aa-4c7d-90dc-f5e9f659d43e",
      "metadata": {
        "id": "5e15950b-85aa-4c7d-90dc-f5e9f659d43e"
      },
      "outputs": [],
      "source": [
        "# Calculate the moving average over 50 sentences\n",
        "...\n",
        "\n",
        "# Plot the moving averages\n",
        "plt.figure(figsize=(14, 7))\n",
        "..."
      ]
    },
    {
      "cell_type": "markdown",
      "source": [
        "#### e)\n",
        "**Hint:** You can subset the text and join it in this way: `' '..join(notes_from_the_underground[...])`"
      ],
      "metadata": {
        "id": "0RmUhOfToxuf"
      },
      "id": "0RmUhOfToxuf"
    },
    {
      "cell_type": "code",
      "execution_count": null,
      "id": "5d5aa0a0-5bcb-4c81-91a0-dc6c963bf972",
      "metadata": {
        "id": "5d5aa0a0-5bcb-4c81-91a0-dc6c963bf972"
      },
      "outputs": [],
      "source": [
        "# Subset\n",
        "\n",
        "# Print"
      ]
    },
    {
      "cell_type": "markdown",
      "source": [
        "#### f)"
      ],
      "metadata": {
        "id": "z7FGM2t2p_48"
      },
      "id": "z7FGM2t2p_48"
    },
    {
      "cell_type": "code",
      "execution_count": null,
      "id": "7dc807ab-d3c9-46cf-bd4e-da014fbcdbe8",
      "metadata": {
        "id": "7dc807ab-d3c9-46cf-bd4e-da014fbcdbe8"
      },
      "outputs": [],
      "source": [
        "# Get text\n",
        "pride_and_prejudice = get_pride_and_prejudice()\n",
        "\n",
        "# Run sentiment analysis\n",
        "...\n",
        "\n",
        "# Calculate the moving average over 50 sentences\n",
        "...\n",
        "\n",
        "# Plot the moving averages\n",
        "..."
      ]
    }
  ],
  "metadata": {
    "kernelspec": {
      "display_name": "Python 3 (ipykernel)",
      "language": "python",
      "name": "python3"
    },
    "language_info": {
      "codemirror_mode": {
        "name": "ipython",
        "version": 3
      },
      "file_extension": ".py",
      "mimetype": "text/x-python",
      "name": "python",
      "nbconvert_exporter": "python",
      "pygments_lexer": "ipython3",
      "version": "3.11.5"
    },
    "colab": {
      "provenance": [],
      "collapsed_sections": [
        "a628d76a-3d1c-477c-8572-68ad67b70f22"
      ]
    },
    "widgets": {
      "application/vnd.jupyter.widget-state+json": {
        "e12cdd4eeb6c4134a1e757f698de78ac": {
          "model_module": "@jupyter-widgets/controls",
          "model_name": "HBoxModel",
          "model_module_version": "1.5.0",
          "state": {
            "_dom_classes": [],
            "_model_module": "@jupyter-widgets/controls",
            "_model_module_version": "1.5.0",
            "_model_name": "HBoxModel",
            "_view_count": null,
            "_view_module": "@jupyter-widgets/controls",
            "_view_module_version": "1.5.0",
            "_view_name": "HBoxView",
            "box_style": "",
            "children": [
              "IPY_MODEL_5d4acb6cad0f43b3b53a96941e1dc016",
              "IPY_MODEL_f1d4cccb87344b82a73103d7458514d0",
              "IPY_MODEL_183b82e50aab4c1c9b509e88debe1817"
            ],
            "layout": "IPY_MODEL_36cff40ffa1b426f8d43b3d5abda1dc5"
          }
        },
        "5d4acb6cad0f43b3b53a96941e1dc016": {
          "model_module": "@jupyter-widgets/controls",
          "model_name": "HTMLModel",
          "model_module_version": "1.5.0",
          "state": {
            "_dom_classes": [],
            "_model_module": "@jupyter-widgets/controls",
            "_model_module_version": "1.5.0",
            "_model_name": "HTMLModel",
            "_view_count": null,
            "_view_module": "@jupyter-widgets/controls",
            "_view_module_version": "1.5.0",
            "_view_name": "HTMLView",
            "description": "",
            "description_tooltip": null,
            "layout": "IPY_MODEL_0f1fadce3e42460892e08232bfea1b22",
            "placeholder": "​",
            "style": "IPY_MODEL_0982cb375dcd4ef99cb48ef3cd6e0b53",
            "value": "config.json: 100%"
          }
        },
        "f1d4cccb87344b82a73103d7458514d0": {
          "model_module": "@jupyter-widgets/controls",
          "model_name": "FloatProgressModel",
          "model_module_version": "1.5.0",
          "state": {
            "_dom_classes": [],
            "_model_module": "@jupyter-widgets/controls",
            "_model_module_version": "1.5.0",
            "_model_name": "FloatProgressModel",
            "_view_count": null,
            "_view_module": "@jupyter-widgets/controls",
            "_view_module_version": "1.5.0",
            "_view_name": "ProgressView",
            "bar_style": "success",
            "description": "",
            "description_tooltip": null,
            "layout": "IPY_MODEL_6b452d61400f492a985a0cd507f5dcc9",
            "max": 629,
            "min": 0,
            "orientation": "horizontal",
            "style": "IPY_MODEL_0524f850747f4437a1abab477535f0d8",
            "value": 629
          }
        },
        "183b82e50aab4c1c9b509e88debe1817": {
          "model_module": "@jupyter-widgets/controls",
          "model_name": "HTMLModel",
          "model_module_version": "1.5.0",
          "state": {
            "_dom_classes": [],
            "_model_module": "@jupyter-widgets/controls",
            "_model_module_version": "1.5.0",
            "_model_name": "HTMLModel",
            "_view_count": null,
            "_view_module": "@jupyter-widgets/controls",
            "_view_module_version": "1.5.0",
            "_view_name": "HTMLView",
            "description": "",
            "description_tooltip": null,
            "layout": "IPY_MODEL_852c3e17a83244f1a9bdf2be922871e6",
            "placeholder": "​",
            "style": "IPY_MODEL_f47ef976414241ac92e749f17db51425",
            "value": " 629/629 [00:00&lt;00:00, 4.62kB/s]"
          }
        },
        "36cff40ffa1b426f8d43b3d5abda1dc5": {
          "model_module": "@jupyter-widgets/base",
          "model_name": "LayoutModel",
          "model_module_version": "1.2.0",
          "state": {
            "_model_module": "@jupyter-widgets/base",
            "_model_module_version": "1.2.0",
            "_model_name": "LayoutModel",
            "_view_count": null,
            "_view_module": "@jupyter-widgets/base",
            "_view_module_version": "1.2.0",
            "_view_name": "LayoutView",
            "align_content": null,
            "align_items": null,
            "align_self": null,
            "border": null,
            "bottom": null,
            "display": null,
            "flex": null,
            "flex_flow": null,
            "grid_area": null,
            "grid_auto_columns": null,
            "grid_auto_flow": null,
            "grid_auto_rows": null,
            "grid_column": null,
            "grid_gap": null,
            "grid_row": null,
            "grid_template_areas": null,
            "grid_template_columns": null,
            "grid_template_rows": null,
            "height": null,
            "justify_content": null,
            "justify_items": null,
            "left": null,
            "margin": null,
            "max_height": null,
            "max_width": null,
            "min_height": null,
            "min_width": null,
            "object_fit": null,
            "object_position": null,
            "order": null,
            "overflow": null,
            "overflow_x": null,
            "overflow_y": null,
            "padding": null,
            "right": null,
            "top": null,
            "visibility": null,
            "width": null
          }
        },
        "0f1fadce3e42460892e08232bfea1b22": {
          "model_module": "@jupyter-widgets/base",
          "model_name": "LayoutModel",
          "model_module_version": "1.2.0",
          "state": {
            "_model_module": "@jupyter-widgets/base",
            "_model_module_version": "1.2.0",
            "_model_name": "LayoutModel",
            "_view_count": null,
            "_view_module": "@jupyter-widgets/base",
            "_view_module_version": "1.2.0",
            "_view_name": "LayoutView",
            "align_content": null,
            "align_items": null,
            "align_self": null,
            "border": null,
            "bottom": null,
            "display": null,
            "flex": null,
            "flex_flow": null,
            "grid_area": null,
            "grid_auto_columns": null,
            "grid_auto_flow": null,
            "grid_auto_rows": null,
            "grid_column": null,
            "grid_gap": null,
            "grid_row": null,
            "grid_template_areas": null,
            "grid_template_columns": null,
            "grid_template_rows": null,
            "height": null,
            "justify_content": null,
            "justify_items": null,
            "left": null,
            "margin": null,
            "max_height": null,
            "max_width": null,
            "min_height": null,
            "min_width": null,
            "object_fit": null,
            "object_position": null,
            "order": null,
            "overflow": null,
            "overflow_x": null,
            "overflow_y": null,
            "padding": null,
            "right": null,
            "top": null,
            "visibility": null,
            "width": null
          }
        },
        "0982cb375dcd4ef99cb48ef3cd6e0b53": {
          "model_module": "@jupyter-widgets/controls",
          "model_name": "DescriptionStyleModel",
          "model_module_version": "1.5.0",
          "state": {
            "_model_module": "@jupyter-widgets/controls",
            "_model_module_version": "1.5.0",
            "_model_name": "DescriptionStyleModel",
            "_view_count": null,
            "_view_module": "@jupyter-widgets/base",
            "_view_module_version": "1.2.0",
            "_view_name": "StyleView",
            "description_width": ""
          }
        },
        "6b452d61400f492a985a0cd507f5dcc9": {
          "model_module": "@jupyter-widgets/base",
          "model_name": "LayoutModel",
          "model_module_version": "1.2.0",
          "state": {
            "_model_module": "@jupyter-widgets/base",
            "_model_module_version": "1.2.0",
            "_model_name": "LayoutModel",
            "_view_count": null,
            "_view_module": "@jupyter-widgets/base",
            "_view_module_version": "1.2.0",
            "_view_name": "LayoutView",
            "align_content": null,
            "align_items": null,
            "align_self": null,
            "border": null,
            "bottom": null,
            "display": null,
            "flex": null,
            "flex_flow": null,
            "grid_area": null,
            "grid_auto_columns": null,
            "grid_auto_flow": null,
            "grid_auto_rows": null,
            "grid_column": null,
            "grid_gap": null,
            "grid_row": null,
            "grid_template_areas": null,
            "grid_template_columns": null,
            "grid_template_rows": null,
            "height": null,
            "justify_content": null,
            "justify_items": null,
            "left": null,
            "margin": null,
            "max_height": null,
            "max_width": null,
            "min_height": null,
            "min_width": null,
            "object_fit": null,
            "object_position": null,
            "order": null,
            "overflow": null,
            "overflow_x": null,
            "overflow_y": null,
            "padding": null,
            "right": null,
            "top": null,
            "visibility": null,
            "width": null
          }
        },
        "0524f850747f4437a1abab477535f0d8": {
          "model_module": "@jupyter-widgets/controls",
          "model_name": "ProgressStyleModel",
          "model_module_version": "1.5.0",
          "state": {
            "_model_module": "@jupyter-widgets/controls",
            "_model_module_version": "1.5.0",
            "_model_name": "ProgressStyleModel",
            "_view_count": null,
            "_view_module": "@jupyter-widgets/base",
            "_view_module_version": "1.2.0",
            "_view_name": "StyleView",
            "bar_color": null,
            "description_width": ""
          }
        },
        "852c3e17a83244f1a9bdf2be922871e6": {
          "model_module": "@jupyter-widgets/base",
          "model_name": "LayoutModel",
          "model_module_version": "1.2.0",
          "state": {
            "_model_module": "@jupyter-widgets/base",
            "_model_module_version": "1.2.0",
            "_model_name": "LayoutModel",
            "_view_count": null,
            "_view_module": "@jupyter-widgets/base",
            "_view_module_version": "1.2.0",
            "_view_name": "LayoutView",
            "align_content": null,
            "align_items": null,
            "align_self": null,
            "border": null,
            "bottom": null,
            "display": null,
            "flex": null,
            "flex_flow": null,
            "grid_area": null,
            "grid_auto_columns": null,
            "grid_auto_flow": null,
            "grid_auto_rows": null,
            "grid_column": null,
            "grid_gap": null,
            "grid_row": null,
            "grid_template_areas": null,
            "grid_template_columns": null,
            "grid_template_rows": null,
            "height": null,
            "justify_content": null,
            "justify_items": null,
            "left": null,
            "margin": null,
            "max_height": null,
            "max_width": null,
            "min_height": null,
            "min_width": null,
            "object_fit": null,
            "object_position": null,
            "order": null,
            "overflow": null,
            "overflow_x": null,
            "overflow_y": null,
            "padding": null,
            "right": null,
            "top": null,
            "visibility": null,
            "width": null
          }
        },
        "f47ef976414241ac92e749f17db51425": {
          "model_module": "@jupyter-widgets/controls",
          "model_name": "DescriptionStyleModel",
          "model_module_version": "1.5.0",
          "state": {
            "_model_module": "@jupyter-widgets/controls",
            "_model_module_version": "1.5.0",
            "_model_name": "DescriptionStyleModel",
            "_view_count": null,
            "_view_module": "@jupyter-widgets/base",
            "_view_module_version": "1.2.0",
            "_view_name": "StyleView",
            "description_width": ""
          }
        },
        "668edccacd5242a1995ff62fccfe2799": {
          "model_module": "@jupyter-widgets/controls",
          "model_name": "HBoxModel",
          "model_module_version": "1.5.0",
          "state": {
            "_dom_classes": [],
            "_model_module": "@jupyter-widgets/controls",
            "_model_module_version": "1.5.0",
            "_model_name": "HBoxModel",
            "_view_count": null,
            "_view_module": "@jupyter-widgets/controls",
            "_view_module_version": "1.5.0",
            "_view_name": "HBoxView",
            "box_style": "",
            "children": [
              "IPY_MODEL_e17d8d77bde14ac1b93d7ec6ffa240f7",
              "IPY_MODEL_f281cb975d334f548d6bdc47411f6374",
              "IPY_MODEL_6a8c7d0ffad540d3912c106485a28603"
            ],
            "layout": "IPY_MODEL_ad37d06433fe4945bdbef880370f2f2c"
          }
        },
        "e17d8d77bde14ac1b93d7ec6ffa240f7": {
          "model_module": "@jupyter-widgets/controls",
          "model_name": "HTMLModel",
          "model_module_version": "1.5.0",
          "state": {
            "_dom_classes": [],
            "_model_module": "@jupyter-widgets/controls",
            "_model_module_version": "1.5.0",
            "_model_name": "HTMLModel",
            "_view_count": null,
            "_view_module": "@jupyter-widgets/controls",
            "_view_module_version": "1.5.0",
            "_view_name": "HTMLView",
            "description": "",
            "description_tooltip": null,
            "layout": "IPY_MODEL_b795ed7f7c714af8ad3b756e4d162fbc",
            "placeholder": "​",
            "style": "IPY_MODEL_bcc3052352d34a088ed499fa43eeee8d",
            "value": "model.safetensors: 100%"
          }
        },
        "f281cb975d334f548d6bdc47411f6374": {
          "model_module": "@jupyter-widgets/controls",
          "model_name": "FloatProgressModel",
          "model_module_version": "1.5.0",
          "state": {
            "_dom_classes": [],
            "_model_module": "@jupyter-widgets/controls",
            "_model_module_version": "1.5.0",
            "_model_name": "FloatProgressModel",
            "_view_count": null,
            "_view_module": "@jupyter-widgets/controls",
            "_view_module_version": "1.5.0",
            "_view_name": "ProgressView",
            "bar_style": "success",
            "description": "",
            "description_tooltip": null,
            "layout": "IPY_MODEL_4331b0ffc781472caa39df62406eb4b9",
            "max": 267832558,
            "min": 0,
            "orientation": "horizontal",
            "style": "IPY_MODEL_1f14e14387bf47bf92a3bc4fa7454ece",
            "value": 267832558
          }
        },
        "6a8c7d0ffad540d3912c106485a28603": {
          "model_module": "@jupyter-widgets/controls",
          "model_name": "HTMLModel",
          "model_module_version": "1.5.0",
          "state": {
            "_dom_classes": [],
            "_model_module": "@jupyter-widgets/controls",
            "_model_module_version": "1.5.0",
            "_model_name": "HTMLModel",
            "_view_count": null,
            "_view_module": "@jupyter-widgets/controls",
            "_view_module_version": "1.5.0",
            "_view_name": "HTMLView",
            "description": "",
            "description_tooltip": null,
            "layout": "IPY_MODEL_2dc3e5388ca047589443200056e3dfb0",
            "placeholder": "​",
            "style": "IPY_MODEL_17a76f616d9d41529a0bdea316f4feff",
            "value": " 268M/268M [00:03&lt;00:00, 79.3MB/s]"
          }
        },
        "ad37d06433fe4945bdbef880370f2f2c": {
          "model_module": "@jupyter-widgets/base",
          "model_name": "LayoutModel",
          "model_module_version": "1.2.0",
          "state": {
            "_model_module": "@jupyter-widgets/base",
            "_model_module_version": "1.2.0",
            "_model_name": "LayoutModel",
            "_view_count": null,
            "_view_module": "@jupyter-widgets/base",
            "_view_module_version": "1.2.0",
            "_view_name": "LayoutView",
            "align_content": null,
            "align_items": null,
            "align_self": null,
            "border": null,
            "bottom": null,
            "display": null,
            "flex": null,
            "flex_flow": null,
            "grid_area": null,
            "grid_auto_columns": null,
            "grid_auto_flow": null,
            "grid_auto_rows": null,
            "grid_column": null,
            "grid_gap": null,
            "grid_row": null,
            "grid_template_areas": null,
            "grid_template_columns": null,
            "grid_template_rows": null,
            "height": null,
            "justify_content": null,
            "justify_items": null,
            "left": null,
            "margin": null,
            "max_height": null,
            "max_width": null,
            "min_height": null,
            "min_width": null,
            "object_fit": null,
            "object_position": null,
            "order": null,
            "overflow": null,
            "overflow_x": null,
            "overflow_y": null,
            "padding": null,
            "right": null,
            "top": null,
            "visibility": null,
            "width": null
          }
        },
        "b795ed7f7c714af8ad3b756e4d162fbc": {
          "model_module": "@jupyter-widgets/base",
          "model_name": "LayoutModel",
          "model_module_version": "1.2.0",
          "state": {
            "_model_module": "@jupyter-widgets/base",
            "_model_module_version": "1.2.0",
            "_model_name": "LayoutModel",
            "_view_count": null,
            "_view_module": "@jupyter-widgets/base",
            "_view_module_version": "1.2.0",
            "_view_name": "LayoutView",
            "align_content": null,
            "align_items": null,
            "align_self": null,
            "border": null,
            "bottom": null,
            "display": null,
            "flex": null,
            "flex_flow": null,
            "grid_area": null,
            "grid_auto_columns": null,
            "grid_auto_flow": null,
            "grid_auto_rows": null,
            "grid_column": null,
            "grid_gap": null,
            "grid_row": null,
            "grid_template_areas": null,
            "grid_template_columns": null,
            "grid_template_rows": null,
            "height": null,
            "justify_content": null,
            "justify_items": null,
            "left": null,
            "margin": null,
            "max_height": null,
            "max_width": null,
            "min_height": null,
            "min_width": null,
            "object_fit": null,
            "object_position": null,
            "order": null,
            "overflow": null,
            "overflow_x": null,
            "overflow_y": null,
            "padding": null,
            "right": null,
            "top": null,
            "visibility": null,
            "width": null
          }
        },
        "bcc3052352d34a088ed499fa43eeee8d": {
          "model_module": "@jupyter-widgets/controls",
          "model_name": "DescriptionStyleModel",
          "model_module_version": "1.5.0",
          "state": {
            "_model_module": "@jupyter-widgets/controls",
            "_model_module_version": "1.5.0",
            "_model_name": "DescriptionStyleModel",
            "_view_count": null,
            "_view_module": "@jupyter-widgets/base",
            "_view_module_version": "1.2.0",
            "_view_name": "StyleView",
            "description_width": ""
          }
        },
        "4331b0ffc781472caa39df62406eb4b9": {
          "model_module": "@jupyter-widgets/base",
          "model_name": "LayoutModel",
          "model_module_version": "1.2.0",
          "state": {
            "_model_module": "@jupyter-widgets/base",
            "_model_module_version": "1.2.0",
            "_model_name": "LayoutModel",
            "_view_count": null,
            "_view_module": "@jupyter-widgets/base",
            "_view_module_version": "1.2.0",
            "_view_name": "LayoutView",
            "align_content": null,
            "align_items": null,
            "align_self": null,
            "border": null,
            "bottom": null,
            "display": null,
            "flex": null,
            "flex_flow": null,
            "grid_area": null,
            "grid_auto_columns": null,
            "grid_auto_flow": null,
            "grid_auto_rows": null,
            "grid_column": null,
            "grid_gap": null,
            "grid_row": null,
            "grid_template_areas": null,
            "grid_template_columns": null,
            "grid_template_rows": null,
            "height": null,
            "justify_content": null,
            "justify_items": null,
            "left": null,
            "margin": null,
            "max_height": null,
            "max_width": null,
            "min_height": null,
            "min_width": null,
            "object_fit": null,
            "object_position": null,
            "order": null,
            "overflow": null,
            "overflow_x": null,
            "overflow_y": null,
            "padding": null,
            "right": null,
            "top": null,
            "visibility": null,
            "width": null
          }
        },
        "1f14e14387bf47bf92a3bc4fa7454ece": {
          "model_module": "@jupyter-widgets/controls",
          "model_name": "ProgressStyleModel",
          "model_module_version": "1.5.0",
          "state": {
            "_model_module": "@jupyter-widgets/controls",
            "_model_module_version": "1.5.0",
            "_model_name": "ProgressStyleModel",
            "_view_count": null,
            "_view_module": "@jupyter-widgets/base",
            "_view_module_version": "1.2.0",
            "_view_name": "StyleView",
            "bar_color": null,
            "description_width": ""
          }
        },
        "2dc3e5388ca047589443200056e3dfb0": {
          "model_module": "@jupyter-widgets/base",
          "model_name": "LayoutModel",
          "model_module_version": "1.2.0",
          "state": {
            "_model_module": "@jupyter-widgets/base",
            "_model_module_version": "1.2.0",
            "_model_name": "LayoutModel",
            "_view_count": null,
            "_view_module": "@jupyter-widgets/base",
            "_view_module_version": "1.2.0",
            "_view_name": "LayoutView",
            "align_content": null,
            "align_items": null,
            "align_self": null,
            "border": null,
            "bottom": null,
            "display": null,
            "flex": null,
            "flex_flow": null,
            "grid_area": null,
            "grid_auto_columns": null,
            "grid_auto_flow": null,
            "grid_auto_rows": null,
            "grid_column": null,
            "grid_gap": null,
            "grid_row": null,
            "grid_template_areas": null,
            "grid_template_columns": null,
            "grid_template_rows": null,
            "height": null,
            "justify_content": null,
            "justify_items": null,
            "left": null,
            "margin": null,
            "max_height": null,
            "max_width": null,
            "min_height": null,
            "min_width": null,
            "object_fit": null,
            "object_position": null,
            "order": null,
            "overflow": null,
            "overflow_x": null,
            "overflow_y": null,
            "padding": null,
            "right": null,
            "top": null,
            "visibility": null,
            "width": null
          }
        },
        "17a76f616d9d41529a0bdea316f4feff": {
          "model_module": "@jupyter-widgets/controls",
          "model_name": "DescriptionStyleModel",
          "model_module_version": "1.5.0",
          "state": {
            "_model_module": "@jupyter-widgets/controls",
            "_model_module_version": "1.5.0",
            "_model_name": "DescriptionStyleModel",
            "_view_count": null,
            "_view_module": "@jupyter-widgets/base",
            "_view_module_version": "1.2.0",
            "_view_name": "StyleView",
            "description_width": ""
          }
        },
        "0d8f413c85004bf499c6d63563d1f242": {
          "model_module": "@jupyter-widgets/controls",
          "model_name": "HBoxModel",
          "model_module_version": "1.5.0",
          "state": {
            "_dom_classes": [],
            "_model_module": "@jupyter-widgets/controls",
            "_model_module_version": "1.5.0",
            "_model_name": "HBoxModel",
            "_view_count": null,
            "_view_module": "@jupyter-widgets/controls",
            "_view_module_version": "1.5.0",
            "_view_name": "HBoxView",
            "box_style": "",
            "children": [
              "IPY_MODEL_977c9187df414cc885a9f0382fb01118",
              "IPY_MODEL_b1b2c15876b041d6a4104a22b4f5b7ef",
              "IPY_MODEL_25d347cd89c54160bf3b021a5f1348e3"
            ],
            "layout": "IPY_MODEL_f0a036dda97a4d29a583a4b54b6dec64"
          }
        },
        "977c9187df414cc885a9f0382fb01118": {
          "model_module": "@jupyter-widgets/controls",
          "model_name": "HTMLModel",
          "model_module_version": "1.5.0",
          "state": {
            "_dom_classes": [],
            "_model_module": "@jupyter-widgets/controls",
            "_model_module_version": "1.5.0",
            "_model_name": "HTMLModel",
            "_view_count": null,
            "_view_module": "@jupyter-widgets/controls",
            "_view_module_version": "1.5.0",
            "_view_name": "HTMLView",
            "description": "",
            "description_tooltip": null,
            "layout": "IPY_MODEL_b970c62b1b6849b99a78cf75ba467dae",
            "placeholder": "​",
            "style": "IPY_MODEL_063cc9d7f7e14e36a69ba1964877b232",
            "value": "tokenizer_config.json: 100%"
          }
        },
        "b1b2c15876b041d6a4104a22b4f5b7ef": {
          "model_module": "@jupyter-widgets/controls",
          "model_name": "FloatProgressModel",
          "model_module_version": "1.5.0",
          "state": {
            "_dom_classes": [],
            "_model_module": "@jupyter-widgets/controls",
            "_model_module_version": "1.5.0",
            "_model_name": "FloatProgressModel",
            "_view_count": null,
            "_view_module": "@jupyter-widgets/controls",
            "_view_module_version": "1.5.0",
            "_view_name": "ProgressView",
            "bar_style": "success",
            "description": "",
            "description_tooltip": null,
            "layout": "IPY_MODEL_9c8b9bafbcf346658140e565146da7bb",
            "max": 48,
            "min": 0,
            "orientation": "horizontal",
            "style": "IPY_MODEL_b26536bb66994d7c8881e005d483baec",
            "value": 48
          }
        },
        "25d347cd89c54160bf3b021a5f1348e3": {
          "model_module": "@jupyter-widgets/controls",
          "model_name": "HTMLModel",
          "model_module_version": "1.5.0",
          "state": {
            "_dom_classes": [],
            "_model_module": "@jupyter-widgets/controls",
            "_model_module_version": "1.5.0",
            "_model_name": "HTMLModel",
            "_view_count": null,
            "_view_module": "@jupyter-widgets/controls",
            "_view_module_version": "1.5.0",
            "_view_name": "HTMLView",
            "description": "",
            "description_tooltip": null,
            "layout": "IPY_MODEL_ecdd817ebd944986b95a9a4b34c43ff0",
            "placeholder": "​",
            "style": "IPY_MODEL_869a5b6bdd6142bb98bab08678f6abdd",
            "value": " 48.0/48.0 [00:00&lt;00:00, 1.05kB/s]"
          }
        },
        "f0a036dda97a4d29a583a4b54b6dec64": {
          "model_module": "@jupyter-widgets/base",
          "model_name": "LayoutModel",
          "model_module_version": "1.2.0",
          "state": {
            "_model_module": "@jupyter-widgets/base",
            "_model_module_version": "1.2.0",
            "_model_name": "LayoutModel",
            "_view_count": null,
            "_view_module": "@jupyter-widgets/base",
            "_view_module_version": "1.2.0",
            "_view_name": "LayoutView",
            "align_content": null,
            "align_items": null,
            "align_self": null,
            "border": null,
            "bottom": null,
            "display": null,
            "flex": null,
            "flex_flow": null,
            "grid_area": null,
            "grid_auto_columns": null,
            "grid_auto_flow": null,
            "grid_auto_rows": null,
            "grid_column": null,
            "grid_gap": null,
            "grid_row": null,
            "grid_template_areas": null,
            "grid_template_columns": null,
            "grid_template_rows": null,
            "height": null,
            "justify_content": null,
            "justify_items": null,
            "left": null,
            "margin": null,
            "max_height": null,
            "max_width": null,
            "min_height": null,
            "min_width": null,
            "object_fit": null,
            "object_position": null,
            "order": null,
            "overflow": null,
            "overflow_x": null,
            "overflow_y": null,
            "padding": null,
            "right": null,
            "top": null,
            "visibility": null,
            "width": null
          }
        },
        "b970c62b1b6849b99a78cf75ba467dae": {
          "model_module": "@jupyter-widgets/base",
          "model_name": "LayoutModel",
          "model_module_version": "1.2.0",
          "state": {
            "_model_module": "@jupyter-widgets/base",
            "_model_module_version": "1.2.0",
            "_model_name": "LayoutModel",
            "_view_count": null,
            "_view_module": "@jupyter-widgets/base",
            "_view_module_version": "1.2.0",
            "_view_name": "LayoutView",
            "align_content": null,
            "align_items": null,
            "align_self": null,
            "border": null,
            "bottom": null,
            "display": null,
            "flex": null,
            "flex_flow": null,
            "grid_area": null,
            "grid_auto_columns": null,
            "grid_auto_flow": null,
            "grid_auto_rows": null,
            "grid_column": null,
            "grid_gap": null,
            "grid_row": null,
            "grid_template_areas": null,
            "grid_template_columns": null,
            "grid_template_rows": null,
            "height": null,
            "justify_content": null,
            "justify_items": null,
            "left": null,
            "margin": null,
            "max_height": null,
            "max_width": null,
            "min_height": null,
            "min_width": null,
            "object_fit": null,
            "object_position": null,
            "order": null,
            "overflow": null,
            "overflow_x": null,
            "overflow_y": null,
            "padding": null,
            "right": null,
            "top": null,
            "visibility": null,
            "width": null
          }
        },
        "063cc9d7f7e14e36a69ba1964877b232": {
          "model_module": "@jupyter-widgets/controls",
          "model_name": "DescriptionStyleModel",
          "model_module_version": "1.5.0",
          "state": {
            "_model_module": "@jupyter-widgets/controls",
            "_model_module_version": "1.5.0",
            "_model_name": "DescriptionStyleModel",
            "_view_count": null,
            "_view_module": "@jupyter-widgets/base",
            "_view_module_version": "1.2.0",
            "_view_name": "StyleView",
            "description_width": ""
          }
        },
        "9c8b9bafbcf346658140e565146da7bb": {
          "model_module": "@jupyter-widgets/base",
          "model_name": "LayoutModel",
          "model_module_version": "1.2.0",
          "state": {
            "_model_module": "@jupyter-widgets/base",
            "_model_module_version": "1.2.0",
            "_model_name": "LayoutModel",
            "_view_count": null,
            "_view_module": "@jupyter-widgets/base",
            "_view_module_version": "1.2.0",
            "_view_name": "LayoutView",
            "align_content": null,
            "align_items": null,
            "align_self": null,
            "border": null,
            "bottom": null,
            "display": null,
            "flex": null,
            "flex_flow": null,
            "grid_area": null,
            "grid_auto_columns": null,
            "grid_auto_flow": null,
            "grid_auto_rows": null,
            "grid_column": null,
            "grid_gap": null,
            "grid_row": null,
            "grid_template_areas": null,
            "grid_template_columns": null,
            "grid_template_rows": null,
            "height": null,
            "justify_content": null,
            "justify_items": null,
            "left": null,
            "margin": null,
            "max_height": null,
            "max_width": null,
            "min_height": null,
            "min_width": null,
            "object_fit": null,
            "object_position": null,
            "order": null,
            "overflow": null,
            "overflow_x": null,
            "overflow_y": null,
            "padding": null,
            "right": null,
            "top": null,
            "visibility": null,
            "width": null
          }
        },
        "b26536bb66994d7c8881e005d483baec": {
          "model_module": "@jupyter-widgets/controls",
          "model_name": "ProgressStyleModel",
          "model_module_version": "1.5.0",
          "state": {
            "_model_module": "@jupyter-widgets/controls",
            "_model_module_version": "1.5.0",
            "_model_name": "ProgressStyleModel",
            "_view_count": null,
            "_view_module": "@jupyter-widgets/base",
            "_view_module_version": "1.2.0",
            "_view_name": "StyleView",
            "bar_color": null,
            "description_width": ""
          }
        },
        "ecdd817ebd944986b95a9a4b34c43ff0": {
          "model_module": "@jupyter-widgets/base",
          "model_name": "LayoutModel",
          "model_module_version": "1.2.0",
          "state": {
            "_model_module": "@jupyter-widgets/base",
            "_model_module_version": "1.2.0",
            "_model_name": "LayoutModel",
            "_view_count": null,
            "_view_module": "@jupyter-widgets/base",
            "_view_module_version": "1.2.0",
            "_view_name": "LayoutView",
            "align_content": null,
            "align_items": null,
            "align_self": null,
            "border": null,
            "bottom": null,
            "display": null,
            "flex": null,
            "flex_flow": null,
            "grid_area": null,
            "grid_auto_columns": null,
            "grid_auto_flow": null,
            "grid_auto_rows": null,
            "grid_column": null,
            "grid_gap": null,
            "grid_row": null,
            "grid_template_areas": null,
            "grid_template_columns": null,
            "grid_template_rows": null,
            "height": null,
            "justify_content": null,
            "justify_items": null,
            "left": null,
            "margin": null,
            "max_height": null,
            "max_width": null,
            "min_height": null,
            "min_width": null,
            "object_fit": null,
            "object_position": null,
            "order": null,
            "overflow": null,
            "overflow_x": null,
            "overflow_y": null,
            "padding": null,
            "right": null,
            "top": null,
            "visibility": null,
            "width": null
          }
        },
        "869a5b6bdd6142bb98bab08678f6abdd": {
          "model_module": "@jupyter-widgets/controls",
          "model_name": "DescriptionStyleModel",
          "model_module_version": "1.5.0",
          "state": {
            "_model_module": "@jupyter-widgets/controls",
            "_model_module_version": "1.5.0",
            "_model_name": "DescriptionStyleModel",
            "_view_count": null,
            "_view_module": "@jupyter-widgets/base",
            "_view_module_version": "1.2.0",
            "_view_name": "StyleView",
            "description_width": ""
          }
        },
        "6bc4acad6fea4d41a2c66437942e32b7": {
          "model_module": "@jupyter-widgets/controls",
          "model_name": "HBoxModel",
          "model_module_version": "1.5.0",
          "state": {
            "_dom_classes": [],
            "_model_module": "@jupyter-widgets/controls",
            "_model_module_version": "1.5.0",
            "_model_name": "HBoxModel",
            "_view_count": null,
            "_view_module": "@jupyter-widgets/controls",
            "_view_module_version": "1.5.0",
            "_view_name": "HBoxView",
            "box_style": "",
            "children": [
              "IPY_MODEL_73f6a66c208a40fa862c88fae681e2d2",
              "IPY_MODEL_b0f4ce1941444b30a3b548bf8eef608b",
              "IPY_MODEL_a068246ba6674115a6be6e3dda0b5c2e"
            ],
            "layout": "IPY_MODEL_dc5a82d2e3784eb5b7f1ad9e9d6cabd1"
          }
        },
        "73f6a66c208a40fa862c88fae681e2d2": {
          "model_module": "@jupyter-widgets/controls",
          "model_name": "HTMLModel",
          "model_module_version": "1.5.0",
          "state": {
            "_dom_classes": [],
            "_model_module": "@jupyter-widgets/controls",
            "_model_module_version": "1.5.0",
            "_model_name": "HTMLModel",
            "_view_count": null,
            "_view_module": "@jupyter-widgets/controls",
            "_view_module_version": "1.5.0",
            "_view_name": "HTMLView",
            "description": "",
            "description_tooltip": null,
            "layout": "IPY_MODEL_aeb08e07f3e94c1c97503d99ba9671b2",
            "placeholder": "​",
            "style": "IPY_MODEL_5e978b4993404d619e78156026c5bd40",
            "value": "vocab.txt: 100%"
          }
        },
        "b0f4ce1941444b30a3b548bf8eef608b": {
          "model_module": "@jupyter-widgets/controls",
          "model_name": "FloatProgressModel",
          "model_module_version": "1.5.0",
          "state": {
            "_dom_classes": [],
            "_model_module": "@jupyter-widgets/controls",
            "_model_module_version": "1.5.0",
            "_model_name": "FloatProgressModel",
            "_view_count": null,
            "_view_module": "@jupyter-widgets/controls",
            "_view_module_version": "1.5.0",
            "_view_name": "ProgressView",
            "bar_style": "success",
            "description": "",
            "description_tooltip": null,
            "layout": "IPY_MODEL_52083c1d25624ccd84af57c9e8e0c401",
            "max": 231508,
            "min": 0,
            "orientation": "horizontal",
            "style": "IPY_MODEL_8455b757e8eb4e4a924880b5f033dfdf",
            "value": 231508
          }
        },
        "a068246ba6674115a6be6e3dda0b5c2e": {
          "model_module": "@jupyter-widgets/controls",
          "model_name": "HTMLModel",
          "model_module_version": "1.5.0",
          "state": {
            "_dom_classes": [],
            "_model_module": "@jupyter-widgets/controls",
            "_model_module_version": "1.5.0",
            "_model_name": "HTMLModel",
            "_view_count": null,
            "_view_module": "@jupyter-widgets/controls",
            "_view_module_version": "1.5.0",
            "_view_name": "HTMLView",
            "description": "",
            "description_tooltip": null,
            "layout": "IPY_MODEL_e26e1bb4418b46c6a2eeaed48a0716c5",
            "placeholder": "​",
            "style": "IPY_MODEL_1f17f40754c946b9b997eb3e5254df05",
            "value": " 232k/232k [00:00&lt;00:00, 2.66MB/s]"
          }
        },
        "dc5a82d2e3784eb5b7f1ad9e9d6cabd1": {
          "model_module": "@jupyter-widgets/base",
          "model_name": "LayoutModel",
          "model_module_version": "1.2.0",
          "state": {
            "_model_module": "@jupyter-widgets/base",
            "_model_module_version": "1.2.0",
            "_model_name": "LayoutModel",
            "_view_count": null,
            "_view_module": "@jupyter-widgets/base",
            "_view_module_version": "1.2.0",
            "_view_name": "LayoutView",
            "align_content": null,
            "align_items": null,
            "align_self": null,
            "border": null,
            "bottom": null,
            "display": null,
            "flex": null,
            "flex_flow": null,
            "grid_area": null,
            "grid_auto_columns": null,
            "grid_auto_flow": null,
            "grid_auto_rows": null,
            "grid_column": null,
            "grid_gap": null,
            "grid_row": null,
            "grid_template_areas": null,
            "grid_template_columns": null,
            "grid_template_rows": null,
            "height": null,
            "justify_content": null,
            "justify_items": null,
            "left": null,
            "margin": null,
            "max_height": null,
            "max_width": null,
            "min_height": null,
            "min_width": null,
            "object_fit": null,
            "object_position": null,
            "order": null,
            "overflow": null,
            "overflow_x": null,
            "overflow_y": null,
            "padding": null,
            "right": null,
            "top": null,
            "visibility": null,
            "width": null
          }
        },
        "aeb08e07f3e94c1c97503d99ba9671b2": {
          "model_module": "@jupyter-widgets/base",
          "model_name": "LayoutModel",
          "model_module_version": "1.2.0",
          "state": {
            "_model_module": "@jupyter-widgets/base",
            "_model_module_version": "1.2.0",
            "_model_name": "LayoutModel",
            "_view_count": null,
            "_view_module": "@jupyter-widgets/base",
            "_view_module_version": "1.2.0",
            "_view_name": "LayoutView",
            "align_content": null,
            "align_items": null,
            "align_self": null,
            "border": null,
            "bottom": null,
            "display": null,
            "flex": null,
            "flex_flow": null,
            "grid_area": null,
            "grid_auto_columns": null,
            "grid_auto_flow": null,
            "grid_auto_rows": null,
            "grid_column": null,
            "grid_gap": null,
            "grid_row": null,
            "grid_template_areas": null,
            "grid_template_columns": null,
            "grid_template_rows": null,
            "height": null,
            "justify_content": null,
            "justify_items": null,
            "left": null,
            "margin": null,
            "max_height": null,
            "max_width": null,
            "min_height": null,
            "min_width": null,
            "object_fit": null,
            "object_position": null,
            "order": null,
            "overflow": null,
            "overflow_x": null,
            "overflow_y": null,
            "padding": null,
            "right": null,
            "top": null,
            "visibility": null,
            "width": null
          }
        },
        "5e978b4993404d619e78156026c5bd40": {
          "model_module": "@jupyter-widgets/controls",
          "model_name": "DescriptionStyleModel",
          "model_module_version": "1.5.0",
          "state": {
            "_model_module": "@jupyter-widgets/controls",
            "_model_module_version": "1.5.0",
            "_model_name": "DescriptionStyleModel",
            "_view_count": null,
            "_view_module": "@jupyter-widgets/base",
            "_view_module_version": "1.2.0",
            "_view_name": "StyleView",
            "description_width": ""
          }
        },
        "52083c1d25624ccd84af57c9e8e0c401": {
          "model_module": "@jupyter-widgets/base",
          "model_name": "LayoutModel",
          "model_module_version": "1.2.0",
          "state": {
            "_model_module": "@jupyter-widgets/base",
            "_model_module_version": "1.2.0",
            "_model_name": "LayoutModel",
            "_view_count": null,
            "_view_module": "@jupyter-widgets/base",
            "_view_module_version": "1.2.0",
            "_view_name": "LayoutView",
            "align_content": null,
            "align_items": null,
            "align_self": null,
            "border": null,
            "bottom": null,
            "display": null,
            "flex": null,
            "flex_flow": null,
            "grid_area": null,
            "grid_auto_columns": null,
            "grid_auto_flow": null,
            "grid_auto_rows": null,
            "grid_column": null,
            "grid_gap": null,
            "grid_row": null,
            "grid_template_areas": null,
            "grid_template_columns": null,
            "grid_template_rows": null,
            "height": null,
            "justify_content": null,
            "justify_items": null,
            "left": null,
            "margin": null,
            "max_height": null,
            "max_width": null,
            "min_height": null,
            "min_width": null,
            "object_fit": null,
            "object_position": null,
            "order": null,
            "overflow": null,
            "overflow_x": null,
            "overflow_y": null,
            "padding": null,
            "right": null,
            "top": null,
            "visibility": null,
            "width": null
          }
        },
        "8455b757e8eb4e4a924880b5f033dfdf": {
          "model_module": "@jupyter-widgets/controls",
          "model_name": "ProgressStyleModel",
          "model_module_version": "1.5.0",
          "state": {
            "_model_module": "@jupyter-widgets/controls",
            "_model_module_version": "1.5.0",
            "_model_name": "ProgressStyleModel",
            "_view_count": null,
            "_view_module": "@jupyter-widgets/base",
            "_view_module_version": "1.2.0",
            "_view_name": "StyleView",
            "bar_color": null,
            "description_width": ""
          }
        },
        "e26e1bb4418b46c6a2eeaed48a0716c5": {
          "model_module": "@jupyter-widgets/base",
          "model_name": "LayoutModel",
          "model_module_version": "1.2.0",
          "state": {
            "_model_module": "@jupyter-widgets/base",
            "_model_module_version": "1.2.0",
            "_model_name": "LayoutModel",
            "_view_count": null,
            "_view_module": "@jupyter-widgets/base",
            "_view_module_version": "1.2.0",
            "_view_name": "LayoutView",
            "align_content": null,
            "align_items": null,
            "align_self": null,
            "border": null,
            "bottom": null,
            "display": null,
            "flex": null,
            "flex_flow": null,
            "grid_area": null,
            "grid_auto_columns": null,
            "grid_auto_flow": null,
            "grid_auto_rows": null,
            "grid_column": null,
            "grid_gap": null,
            "grid_row": null,
            "grid_template_areas": null,
            "grid_template_columns": null,
            "grid_template_rows": null,
            "height": null,
            "justify_content": null,
            "justify_items": null,
            "left": null,
            "margin": null,
            "max_height": null,
            "max_width": null,
            "min_height": null,
            "min_width": null,
            "object_fit": null,
            "object_position": null,
            "order": null,
            "overflow": null,
            "overflow_x": null,
            "overflow_y": null,
            "padding": null,
            "right": null,
            "top": null,
            "visibility": null,
            "width": null
          }
        },
        "1f17f40754c946b9b997eb3e5254df05": {
          "model_module": "@jupyter-widgets/controls",
          "model_name": "DescriptionStyleModel",
          "model_module_version": "1.5.0",
          "state": {
            "_model_module": "@jupyter-widgets/controls",
            "_model_module_version": "1.5.0",
            "_model_name": "DescriptionStyleModel",
            "_view_count": null,
            "_view_module": "@jupyter-widgets/base",
            "_view_module_version": "1.2.0",
            "_view_name": "StyleView",
            "description_width": ""
          }
        }
      }
    }
  },
  "nbformat": 4,
  "nbformat_minor": 5
}